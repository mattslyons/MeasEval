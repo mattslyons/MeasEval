{
 "cells": [
  {
   "cell_type": "code",
   "execution_count": 1,
   "metadata": {},
   "outputs": [],
   "source": [
    "import random\n",
    "import torch\n",
    "import pandas as pd\n",
    "import numpy as np\n",
    "import json\n",
    "import os\n",
    "import copy\n",
    "from torch import dropout, nn\n",
    "from torch.optim import AdamW, Adam\n",
    "from transformers import AutoModel, AutoTokenizer, AutoModelForTokenClassification, AutoModelForSequenceClassification\n",
    "from transformers import RobertaForSequenceClassification\n",
    "from transformers import RobertaModel\n",
    "from transformers import get_scheduler\n",
    "from sklearn.metrics import confusion_matrix, ConfusionMatrixDisplay\n",
    "from sklearn.metrics import classification_report\n",
    "from sklearn import metrics as metrics\n",
    "import matplotlib.pyplot as plt\n",
    "import matplotlib.ticker as plticker\n",
    "from tqdm.auto import tqdm\n",
    "import re\n",
    "from nltk.tokenize import sent_tokenize\n",
    "\n",
    "\n",
    "random.seed(42)\n",
    "reprocess_raw =  False # whether to re-read the raw data and create combo files\n",
    "reshuffle_data = True  # whether to reprocess the document lists\n",
    "\n",
    "\n",
    "\n",
    "\n",
    "data_size_reduce = .3 # multiplier for making small datasets \n",
    "                     # (only works if reshuffle_data=True)\n",
    "\n",
    "batch_size = 8 # documents\n",
    "\n",
    "##### HYPERPARAMETERS (moved to bottom)\n",
    "\n",
    "# learning_rate = 5e-5 # sets AdamW optimizaiton learning rate\n",
    "#                      # scales scales with each training loop if scheduler is on\n",
    "\n",
    "# dropout_rate = 1e-1 # sets same dropout for roberta and for classification layer\n",
    "\n",
    "# normalizer_before_class = False # toggle the normalizer before the classification layer\n",
    "# use_lr_scheduler = False  # toggle the linear learning rate scheduler\n",
    "\n",
    "# n_epochs = 8 # baseline probably minimizes after 4 Epochs'\n",
    "\n",
    "##### end HPs\n",
    "\n",
    "task_map = {'Quantity':1,'MeasuredProperty':2,'MeasuredEntity':3,'Qualifier':4, 'Unit':5}\n",
    "num_classes = len(task_map)\n",
    "\n",
    "model_name = 'roberta-base'\n",
    "# model_name = 'allenai/biomed_roberta_base'\n",
    "# model_name = 'allenai/cs_roberta_base'\n",
    "\n",
    "\n",
    "device = torch.device(\"cuda\") if torch.cuda.is_available() else torch.device(\"cpu\")\n",
    "# device = 'cpu' # uncomment this to make debugging models easier\n",
    "                 # because CPU errors are more clear\n",
    "\n",
    "# run_name = model_name.split('/')[-1] +'_bs-'+str(batch_size)+\\\n",
    "#                                         '_lr-'+str(learning_rate)+\\\n",
    "#                                         '_drop-'+str(dropout_rate)+\\\n",
    "#                                         '_norm-'+str(normalizer_before_class)[0]+\\\n",
    "#                                         '_sched-'+str(use_lr_scheduler)[0]\n",
    "\n",
    "# print(run_name)"
   ]
  },
  {
   "cell_type": "code",
   "execution_count": 2,
   "metadata": {},
   "outputs": [],
   "source": [
    "currentdir = os.getcwd() # ~/MeasEval/baselines\n",
    "\n",
    "combopath_txt = os.path.join(currentdir, \"../data/raw/combo/text/\")\n",
    "combopath_annot = os.path.join(currentdir, \"../data/raw/combo/tsv/\")\n",
    "\n",
    "interimpath = os.path.join(currentdir, \"../data/interim/\")\n",
    "\n",
    "outputpath = os.path.join(currentdir, \"../data/output/\")\n",
    "\n",
    "# runoutpath = os.path.join(outputpath,run_name+'/')"
   ]
  },
  {
   "cell_type": "code",
   "execution_count": 3,
   "metadata": {},
   "outputs": [],
   "source": [
    "try: os.makedirs(runoutpath)\n",
    "except: pass"
   ]
  },
  {
   "cell_type": "code",
   "execution_count": 4,
   "metadata": {},
   "outputs": [],
   "source": [
    "def process_raw_txt(docs):\n",
    "    processesd_txt = {}\n",
    "    remove_markers = True\n",
    "\n",
    "    cnt_toks = {\"figs.\": 0, \"fig.\": 0, \"et al.\": 0,\n",
    "            \"ref.\": 0, \"eq.\": 0, \"e.g.\": 0,\n",
    "            \"i.e.\": 0, \"nos.\": 0, \"no.\": 0,\n",
    "            \"spp.\": 0\n",
    "            }\n",
    "    regex_end_checker = [\".*[a-zA-Z]figs\\.$\", \n",
    "                        \".*[a-zA-Z]fig\\.$\",\n",
    "                        \".*[a-zA-Z]et al\\.$\",\n",
    "                        \".*[a-zA-Z]ref\\.$\",\n",
    "                        \".*[a-zA-Z]eq\\.$\",\n",
    "                        \".*[a-zA-Z]e\\.g\\.$\",\n",
    "                        \".*[a-zA-Z]i\\.e\\.$\",\n",
    "                        \".*[a-zA-Z]nos\\.$\",\n",
    "                        \".*[a-zA-Z]no\\.$\",\n",
    "                        \".*[a-zA-Z]spp\\.$\",\n",
    "                        # figs., fig., et al., Ref., Eq., e.g., i.e., Nos., No., spp.\n",
    "                    ]\n",
    "\n",
    "    assert len(cnt_toks) == len(regex_end_checker)\n",
    "\n",
    "    for docId, doc in docs.items():\n",
    "        flag = False\n",
    "        sentences = sent_tokenize(doc)\n",
    "\n",
    "        fixed_sentence_tokens = []\n",
    "        curr_len = 0\n",
    "        for s in sentences:\n",
    "            if flag == True:\n",
    "                assert s[0] != ' '\n",
    "                white_length = doc[curr_len:].find(s[0])\n",
    "\n",
    "                prev_len = len(fixed_sentence_tokens[-1])\n",
    "                fixed_sentence_tokens[-1] = fixed_sentence_tokens[-1] + (\" \"*white_length) + s\n",
    "\n",
    "                assert fixed_sentence_tokens[-1][prev_len+white_length] == doc[curr_len+white_length], (fixed_sentence_tokens[-1], doc, curr_len, tmp_this_sent_len)\n",
    "                tmp_this_sent_len = white_length + len(s)\n",
    "                assert fixed_sentence_tokens[-1][-1] == doc[curr_len+tmp_this_sent_len-1], (fixed_sentence_tokens[-1], doc, curr_len, tmp_this_sent_len)\n",
    "                curr_len += tmp_this_sent_len\n",
    "            else:\n",
    "                if len(fixed_sentence_tokens) != 0:\n",
    "                    assert s[0] != ' '\n",
    "                    white_length = doc[curr_len:].find(s[0])\n",
    "                    fixed_sentence_tokens.append( (\" \"*white_length) + s )\n",
    "                else:\n",
    "                    fixed_sentence_tokens.append(s)\n",
    "                assert fixed_sentence_tokens[-1][0] == doc[curr_len], (fixed_sentence_tokens, doc, curr_len, tmp_this_sent_len)\n",
    "                tmp_this_sent_len = len(fixed_sentence_tokens[-1])\n",
    "                assert fixed_sentence_tokens[-1][-1] == doc[curr_len+tmp_this_sent_len-1], (fixed_sentence_tokens[-1], doc, curr_len, tmp_this_sent_len)\n",
    "                curr_len += tmp_this_sent_len\n",
    "\n",
    "            lower_cased_s = fixed_sentence_tokens[-1].lower()\n",
    "            flag = False\n",
    "            if remove_markers:\n",
    "                for i, k in enumerate(cnt_toks):\n",
    "                    this_regex_pattern = regex_end_checker[i]\n",
    "                    if lower_cased_s.endswith(k) and re.match(this_regex_pattern, lower_cased_s) == None:\n",
    "                        cnt_toks[k] += 1\n",
    "                        flag = True\n",
    "                        break\n",
    "\n",
    "        processesd_txt[docId] = ''.join(fixed_sentence_tokens)\n",
    "    return processesd_txt\n"
   ]
  },
  {
   "cell_type": "code",
   "execution_count": 5,
   "metadata": {},
   "outputs": [],
   "source": [
    "def read_data(reprocess_raw = False):\n",
    "\n",
    "    if reprocess_raw == True:\n",
    "        docIds = []\n",
    "        combo_txt = {}\n",
    "        for fn in os.listdir(combopath_txt):\n",
    "            docIds.append(fn[:-4])\n",
    "            path = combopath_txt+fn\n",
    "            with open(path) as textfile:\n",
    "                    text = textfile.read()\n",
    "                    #[:-4] strips off the .txt to get the id\n",
    "                    combo_txt[fn[:-4]] = text\n",
    "\n",
    "        combo_annot = pd.DataFrame()\n",
    "        for fn in os.listdir(combopath_annot):\n",
    "            path = combopath_annot+fn\n",
    "            file = pd.read_csv(path,delimiter='\\t',encoding='utf-8')\n",
    "            combo_annot = pd.concat([combo_annot, file],ignore_index=True)\n",
    "\n",
    "        combo_txt = process_raw_txt(combo_txt)\n",
    "        assert docIds == list(combo_txt.keys()), (len(docIds), len(list(combo_txt.keys())))\n",
    "\n",
    "        with open(interimpath+'combo_txt.json','w') as f:\n",
    "            json.dump(combo_txt, f)\n",
    "\n",
    "        combo_annot.to_csv(interimpath+'combo_annot.csv')\n",
    "\n",
    "        return docIds, combo_txt, combo_annot\n",
    "    else:\n",
    "        combo_annot = pd.read_csv(interimpath+'combo_annot.csv')\n",
    "\n",
    "        with open(interimpath+'combo_txt.json','r') as f:\n",
    "            combo_txt = json.load(f)\n",
    "\n",
    "        docIds = list(combo_txt.keys())\n",
    "    \n",
    "        return docIds, combo_txt, combo_annot"
   ]
  },
  {
   "cell_type": "code",
   "execution_count": 6,
   "metadata": {},
   "outputs": [],
   "source": [
    "combo_docs, combo_txt, combo_annot = read_data(reprocess_raw = reprocess_raw)"
   ]
  },
  {
   "cell_type": "code",
   "execution_count": 7,
   "metadata": {},
   "outputs": [],
   "source": [
    "#### shuffle and split data\n",
    "\n",
    "if reshuffle_data:\n",
    "    random.seed(42)\n",
    "\n",
    "    random.shuffle(combo_docs)\n",
    "\n",
    "    percent_to_test = .1\n",
    "    percent_to_dev = .2\n",
    "    percent_to_train =  1 - percent_to_dev - percent_to_test\n",
    "\n",
    "    n_doc = len(combo_docs)\n",
    "    split_train = int(np.round(n_doc * percent_to_train))\n",
    "    split_dev = split_train + int(np.round(n_doc * percent_to_dev))\n",
    "\n",
    "    train_docs = combo_docs[:split_train]\n",
    "    dev_docs = combo_docs[split_train:split_dev]\n",
    "    test_docs = combo_docs[split_dev:]\n",
    "\n",
    "    train_docs = random.sample(train_docs, int(len(train_docs)*data_size_reduce))\n",
    "    dev_docs = random.sample(dev_docs, int(len(dev_docs)*data_size_reduce))\n",
    "    test_docs = random.sample(test_docs, int(len(test_docs)*data_size_reduce))\n",
    "\n",
    "    with open(interimpath+'train_docs.json','w') as f:\n",
    "        json.dump(train_docs, f)\n",
    "    with open(interimpath+'dev_docs.json','w') as f:\n",
    "        json.dump(dev_docs, f)\n",
    "    with open(interimpath+'test_docs.json','w') as f:\n",
    "        json.dump(test_docs, f)\n",
    "\n",
    "else:\n",
    "\n",
    "    with open(interimpath+'train_docs.json','r') as f:\n",
    "        train_docs = json.load(f)\n",
    "    with open(interimpath+'dev_docs.json','r') as f:\n",
    "        dev_docs = json.load(f)\n",
    "    with open(interimpath+'test_docs.json','r') as f:\n",
    "        test_docs = json.load(f)"
   ]
  },
  {
   "cell_type": "code",
   "execution_count": 8,
   "metadata": {},
   "outputs": [],
   "source": [
    "########## Tokenizer ###########\n",
    "\n",
    "tokenizer = AutoTokenizer.from_pretrained(model_name)"
   ]
  },
  {
   "cell_type": "code",
   "execution_count": 9,
   "metadata": {},
   "outputs": [
    {
     "data": {
      "text/html": [
       "<div>\n",
       "<style scoped>\n",
       "    .dataframe tbody tr th:only-of-type {\n",
       "        vertical-align: middle;\n",
       "    }\n",
       "\n",
       "    .dataframe tbody tr th {\n",
       "        vertical-align: top;\n",
       "    }\n",
       "\n",
       "    .dataframe thead th {\n",
       "        text-align: right;\n",
       "    }\n",
       "</style>\n",
       "<table border=\"1\" class=\"dataframe\">\n",
       "  <thead>\n",
       "    <tr style=\"text-align: right;\">\n",
       "      <th></th>\n",
       "      <th>docId</th>\n",
       "      <th>annotId</th>\n",
       "      <th>annotSet</th>\n",
       "      <th>annotType</th>\n",
       "      <th>annotSpan</th>\n",
       "      <th>subSpanType</th>\n",
       "      <th>linkId</th>\n",
       "      <th>linkSpan</th>\n",
       "      <th>subSpan</th>\n",
       "      <th>unit</th>\n",
       "      <th>unitEncoded</th>\n",
       "      <th>misc</th>\n",
       "    </tr>\n",
       "    <tr>\n",
       "      <th>comboId</th>\n",
       "      <th></th>\n",
       "      <th></th>\n",
       "      <th></th>\n",
       "      <th></th>\n",
       "      <th></th>\n",
       "      <th></th>\n",
       "      <th></th>\n",
       "      <th></th>\n",
       "      <th></th>\n",
       "      <th></th>\n",
       "      <th></th>\n",
       "      <th></th>\n",
       "    </tr>\n",
       "  </thead>\n",
       "  <tbody>\n",
       "    <tr>\n",
       "      <th>S1873506113001116-1456_T2-3</th>\n",
       "      <td>S1873506113001116-1456</td>\n",
       "      <td>T2-3</td>\n",
       "      <td>3</td>\n",
       "      <td>MeasuredEntity</td>\n",
       "      <td>[314, 322]</td>\n",
       "      <td>HasQuantity</td>\n",
       "      <td>T1-3</td>\n",
       "      <td>[309, 313]</td>\n",
       "      <td>[309, 322]</td>\n",
       "      <td>NaN</td>\n",
       "      <td>NaN</td>\n",
       "      <td>NaN</td>\n",
       "    </tr>\n",
       "    <tr>\n",
       "      <th>S1873506114000075-1242_T1-1</th>\n",
       "      <td>S1873506114000075-1242</td>\n",
       "      <td>T1-1</td>\n",
       "      <td>1</td>\n",
       "      <td>Quantity</td>\n",
       "      <td>[943, 966]</td>\n",
       "      <td>NaN</td>\n",
       "      <td>NaN</td>\n",
       "      <td>NaN</td>\n",
       "      <td>NaN</td>\n",
       "      <td>%</td>\n",
       "      <td>[207]</td>\n",
       "      <td>NaN</td>\n",
       "    </tr>\n",
       "    <tr>\n",
       "      <th>S0012821X13002185-1217_T2212-11</th>\n",
       "      <td>S0012821X13002185-1217</td>\n",
       "      <td>T2212-11</td>\n",
       "      <td>11</td>\n",
       "      <td>Quantity</td>\n",
       "      <td>[978, 987]</td>\n",
       "      <td>NaN</td>\n",
       "      <td>NaN</td>\n",
       "      <td>NaN</td>\n",
       "      <td>NaN</td>\n",
       "      <td>‰</td>\n",
       "      <td>[17, 7487]</td>\n",
       "      <td>NaN</td>\n",
       "    </tr>\n",
       "    <tr>\n",
       "      <th>S2213671113001306-1385_T4-1</th>\n",
       "      <td>S2213671113001306-1385</td>\n",
       "      <td>T4-1</td>\n",
       "      <td>1</td>\n",
       "      <td>Qualifier</td>\n",
       "      <td>[324, 337]</td>\n",
       "      <td>Qualifies</td>\n",
       "      <td>T1-1</td>\n",
       "      <td>[310, 323]</td>\n",
       "      <td>[310, 337]</td>\n",
       "      <td>NaN</td>\n",
       "      <td>NaN</td>\n",
       "      <td>NaN</td>\n",
       "    </tr>\n",
       "    <tr>\n",
       "      <th>S0019103512004009-3976_T3-4</th>\n",
       "      <td>S0019103512004009-3976</td>\n",
       "      <td>T3-4</td>\n",
       "      <td>4</td>\n",
       "      <td>MeasuredEntity</td>\n",
       "      <td>[349, 363]</td>\n",
       "      <td>HasProperty</td>\n",
       "      <td>T2-4</td>\n",
       "      <td>[333, 341]</td>\n",
       "      <td>[333, 363]</td>\n",
       "      <td>NaN</td>\n",
       "      <td>NaN</td>\n",
       "      <td>NaN</td>\n",
       "    </tr>\n",
       "    <tr>\n",
       "      <th>S0927024813001955-679_T3-3</th>\n",
       "      <td>S0927024813001955-679</td>\n",
       "      <td>T3-3</td>\n",
       "      <td>3</td>\n",
       "      <td>MeasuredProperty</td>\n",
       "      <td>[354, 384]</td>\n",
       "      <td>HasQuantity</td>\n",
       "      <td>T1-3</td>\n",
       "      <td>[343, 353]</td>\n",
       "      <td>[343, 384]</td>\n",
       "      <td>NaN</td>\n",
       "      <td>NaN</td>\n",
       "      <td>NaN</td>\n",
       "    </tr>\n",
       "    <tr>\n",
       "      <th>S0921818113002245-1571_T3-2</th>\n",
       "      <td>S0921818113002245-1571</td>\n",
       "      <td>T3-2</td>\n",
       "      <td>2</td>\n",
       "      <td>MeasuredEntity</td>\n",
       "      <td>[221, 269]</td>\n",
       "      <td>HasProperty</td>\n",
       "      <td>T2-2</td>\n",
       "      <td>[195, 199]</td>\n",
       "      <td>[195, 269]</td>\n",
       "      <td>NaN</td>\n",
       "      <td>NaN</td>\n",
       "      <td>NaN</td>\n",
       "    </tr>\n",
       "  </tbody>\n",
       "</table>\n",
       "</div>"
      ],
      "text/plain": [
       "                                                  docId   annotId  annotSet  \\\n",
       "comboId                                                                       \n",
       "S1873506113001116-1456_T2-3      S1873506113001116-1456      T2-3         3   \n",
       "S1873506114000075-1242_T1-1      S1873506114000075-1242      T1-1         1   \n",
       "S0012821X13002185-1217_T2212-11  S0012821X13002185-1217  T2212-11        11   \n",
       "S2213671113001306-1385_T4-1      S2213671113001306-1385      T4-1         1   \n",
       "S0019103512004009-3976_T3-4      S0019103512004009-3976      T3-4         4   \n",
       "S0927024813001955-679_T3-3        S0927024813001955-679      T3-3         3   \n",
       "S0921818113002245-1571_T3-2      S0921818113002245-1571      T3-2         2   \n",
       "\n",
       "                                        annotType   annotSpan  subSpanType  \\\n",
       "comboId                                                                      \n",
       "S1873506113001116-1456_T2-3        MeasuredEntity  [314, 322]  HasQuantity   \n",
       "S1873506114000075-1242_T1-1              Quantity  [943, 966]          NaN   \n",
       "S0012821X13002185-1217_T2212-11          Quantity  [978, 987]          NaN   \n",
       "S2213671113001306-1385_T4-1             Qualifier  [324, 337]    Qualifies   \n",
       "S0019103512004009-3976_T3-4        MeasuredEntity  [349, 363]  HasProperty   \n",
       "S0927024813001955-679_T3-3       MeasuredProperty  [354, 384]  HasQuantity   \n",
       "S0921818113002245-1571_T3-2        MeasuredEntity  [221, 269]  HasProperty   \n",
       "\n",
       "                                linkId    linkSpan     subSpan unit  \\\n",
       "comboId                                                               \n",
       "S1873506113001116-1456_T2-3       T1-3  [309, 313]  [309, 322]  NaN   \n",
       "S1873506114000075-1242_T1-1        NaN         NaN         NaN    %   \n",
       "S0012821X13002185-1217_T2212-11    NaN         NaN         NaN    ‰   \n",
       "S2213671113001306-1385_T4-1       T1-1  [310, 323]  [310, 337]  NaN   \n",
       "S0019103512004009-3976_T3-4       T2-4  [333, 341]  [333, 363]  NaN   \n",
       "S0927024813001955-679_T3-3        T1-3  [343, 353]  [343, 384]  NaN   \n",
       "S0921818113002245-1571_T3-2       T2-2  [195, 199]  [195, 269]  NaN   \n",
       "\n",
       "                                unitEncoded misc  \n",
       "comboId                                           \n",
       "S1873506113001116-1456_T2-3             NaN  NaN  \n",
       "S1873506114000075-1242_T1-1           [207]  NaN  \n",
       "S0012821X13002185-1217_T2212-11  [17, 7487]  NaN  \n",
       "S2213671113001306-1385_T4-1             NaN  NaN  \n",
       "S0019103512004009-3976_T3-4             NaN  NaN  \n",
       "S0927024813001955-679_T3-3              NaN  NaN  \n",
       "S0921818113002245-1571_T3-2             NaN  NaN  "
      ]
     },
     "execution_count": 9,
     "metadata": {},
     "output_type": "execute_result"
    }
   ],
   "source": [
    "def process_annotation_set(annot_set):\n",
    "\n",
    "    annot_set_processed = []\n",
    "\n",
    "    annot_set['comboIds'] = annot_set[['docId','annotId']].agg('_'.join, axis=1)\n",
    "    annot_set.set_index('comboIds',inplace=True)\n",
    "\n",
    "    for comboId in list(annot_set.index):\n",
    "        \n",
    "        docId = annot_set.loc[comboId]['docId']\n",
    "        annotId = annot_set.loc[comboId]['annotId']\n",
    "        annotSet = annot_set.loc[comboId]['annotSet']\n",
    "        annotType = annot_set.loc[comboId]['annotType']\n",
    "        annotSpan = [annot_set.loc[comboId]['startOffset'],annot_set.loc[comboId]['endOffset']]\n",
    "\n",
    "        ent_annot_processed = {\n",
    "            'comboId':comboId,\n",
    "            'docId':docId,\n",
    "            'annotId':annotId,\n",
    "            'annotSet':annotSet,\n",
    "            'annotType':annotType,\n",
    "            'annotSpan':annotSpan,\n",
    "            'subSpanType':np.nan,\n",
    "            'linkId':np.nan,\n",
    "            'linkSpan':np.nan,\n",
    "            'subSpan':np.nan,\n",
    "            'unit':np.nan,\n",
    "            'unitEncoded':np.nan,\n",
    "            'misc':np.nan\n",
    "        }\n",
    "        \n",
    "        other = annot_set.loc[comboId]['other']\n",
    "        if isinstance(other,str):\n",
    "            otherDict = json.loads(str(other))\n",
    "\n",
    "            if annot_set.loc[comboId]['annotType'] != 'Quantity':\n",
    "\n",
    "                ent_annot_processed['subSpanType'] = list(otherDict.keys())[0]\n",
    "                link = list(otherDict.values())[0]\n",
    "\n",
    "                ent_annot_processed['linkId'] = link\n",
    "                linkIdx = docId+'_'+link\n",
    "                linkSpan = [int(annot_set.loc[linkIdx]['startOffset']),int(annot_set.loc[linkIdx]['endOffset'])]\n",
    "                ent_annot_processed['linkSpan'] = linkSpan\n",
    "\n",
    "                spanEnds = annotSpan + linkSpan\n",
    "                ent_annot_processed['subSpan'] = [min(spanEnds),max(spanEnds)]\n",
    "\n",
    "            elif 'unit' in list(otherDict.keys()):\n",
    "                unit = otherDict['unit']\n",
    "                ent_annot_processed['unit'] = unit\n",
    "                ent_annot_processed['unitEncoded'] = tokenizer.encode(unit)[1:-1]\n",
    "            else:\n",
    "                ent_annot_processed['misc'] = otherDict\n",
    "\n",
    "\n",
    "        annot_set_processed.append(ent_annot_processed)\n",
    "   \n",
    "    return pd.DataFrame.from_dict(annot_set_processed).set_index('comboId')\n",
    "\n",
    "combo_annot_processed = process_annotation_set(combo_annot)\n",
    "combo_annot_processed.to_csv(interimpath+'combo_annot_processed.csv')\n",
    "combo_annot_processed.sample(7)\n"
   ]
  },
  {
   "cell_type": "code",
   "execution_count": 10,
   "metadata": {},
   "outputs": [
    {
     "name": "stderr",
     "output_type": "stream",
     "text": [
      "/tmp/ipykernel_1842/2386584782.py:95: SettingWithCopyWarning: \n",
      "A value is trying to be set on a copy of a slice from a DataFrame.\n",
      "Try using .loc[row_indexer,col_indexer] = value instead\n",
      "\n",
      "See the caveats in the documentation: https://pandas.pydata.org/pandas-docs/stable/user_guide/indexing.html#returning-a-view-versus-a-copy\n",
      "  combo_annot_processed_units['dict'] = combo_annot_processed_units.apply(lambda row: get_unit_subspan_row_info(\n"
     ]
    },
    {
     "data": {
      "text/html": [
       "<div>\n",
       "<style scoped>\n",
       "    .dataframe tbody tr th:only-of-type {\n",
       "        vertical-align: middle;\n",
       "    }\n",
       "\n",
       "    .dataframe tbody tr th {\n",
       "        vertical-align: top;\n",
       "    }\n",
       "\n",
       "    .dataframe thead th {\n",
       "        text-align: right;\n",
       "    }\n",
       "</style>\n",
       "<table border=\"1\" class=\"dataframe\">\n",
       "  <thead>\n",
       "    <tr style=\"text-align: right;\">\n",
       "      <th></th>\n",
       "      <th>docId</th>\n",
       "      <th>annotId</th>\n",
       "      <th>annotSet</th>\n",
       "      <th>annotType</th>\n",
       "      <th>annotSpan</th>\n",
       "      <th>subSpanType</th>\n",
       "      <th>linkId</th>\n",
       "      <th>linkSpan</th>\n",
       "      <th>subSpan</th>\n",
       "      <th>unit</th>\n",
       "      <th>unitEncoded</th>\n",
       "      <th>misc</th>\n",
       "    </tr>\n",
       "    <tr>\n",
       "      <th>comboId</th>\n",
       "      <th></th>\n",
       "      <th></th>\n",
       "      <th></th>\n",
       "      <th></th>\n",
       "      <th></th>\n",
       "      <th></th>\n",
       "      <th></th>\n",
       "      <th></th>\n",
       "      <th></th>\n",
       "      <th></th>\n",
       "      <th></th>\n",
       "      <th></th>\n",
       "    </tr>\n",
       "  </thead>\n",
       "  <tbody>\n",
       "    <tr>\n",
       "      <th>S0006322312001096-1136_T1-1</th>\n",
       "      <td>S0006322312001096-1136</td>\n",
       "      <td>T1-1</td>\n",
       "      <td>1</td>\n",
       "      <td>Quantity</td>\n",
       "      <td>[73, 77]</td>\n",
       "      <td>NaN</td>\n",
       "      <td>NaN</td>\n",
       "      <td>NaN</td>\n",
       "      <td>NaN</td>\n",
       "      <td>NaN</td>\n",
       "      <td>NaN</td>\n",
       "      <td>NaN</td>\n",
       "    </tr>\n",
       "    <tr>\n",
       "      <th>S0006322312001096-1136_T2-1</th>\n",
       "      <td>S0006322312001096-1136</td>\n",
       "      <td>T2-1</td>\n",
       "      <td>1</td>\n",
       "      <td>MeasuredEntity</td>\n",
       "      <td>[49, 69]</td>\n",
       "      <td>HasQuantity</td>\n",
       "      <td>T1-1</td>\n",
       "      <td>[73, 77]</td>\n",
       "      <td>[49, 77]</td>\n",
       "      <td>NaN</td>\n",
       "      <td>NaN</td>\n",
       "      <td>NaN</td>\n",
       "    </tr>\n",
       "    <tr>\n",
       "      <th>S0006322312001096-1136_T1-2</th>\n",
       "      <td>S0006322312001096-1136</td>\n",
       "      <td>T1-2</td>\n",
       "      <td>2</td>\n",
       "      <td>Quantity</td>\n",
       "      <td>[103, 123]</td>\n",
       "      <td>NaN</td>\n",
       "      <td>NaN</td>\n",
       "      <td>NaN</td>\n",
       "      <td>NaN</td>\n",
       "      <td>NaN</td>\n",
       "      <td>NaN</td>\n",
       "      <td>{'mods': ['IsList']}</td>\n",
       "    </tr>\n",
       "    <tr>\n",
       "      <th>S0006322312001096-1136_T2-2</th>\n",
       "      <td>S0006322312001096-1136</td>\n",
       "      <td>T2-2</td>\n",
       "      <td>2</td>\n",
       "      <td>MeasuredEntity</td>\n",
       "      <td>[79, 99]</td>\n",
       "      <td>HasQuantity</td>\n",
       "      <td>T1-2</td>\n",
       "      <td>[103, 123]</td>\n",
       "      <td>[79, 123]</td>\n",
       "      <td>NaN</td>\n",
       "      <td>NaN</td>\n",
       "      <td>NaN</td>\n",
       "    </tr>\n",
       "    <tr>\n",
       "      <th>S0006322312001096-1136_T1-3</th>\n",
       "      <td>S0006322312001096-1136</td>\n",
       "      <td>T1-3</td>\n",
       "      <td>3</td>\n",
       "      <td>Quantity</td>\n",
       "      <td>[205, 222]</td>\n",
       "      <td>NaN</td>\n",
       "      <td>NaN</td>\n",
       "      <td>NaN</td>\n",
       "      <td>NaN</td>\n",
       "      <td>participants</td>\n",
       "      <td>[42038, 3277]</td>\n",
       "      <td>NaN</td>\n",
       "    </tr>\n",
       "    <tr>\n",
       "      <th>...</th>\n",
       "      <td>...</td>\n",
       "      <td>...</td>\n",
       "      <td>...</td>\n",
       "      <td>...</td>\n",
       "      <td>...</td>\n",
       "      <td>...</td>\n",
       "      <td>...</td>\n",
       "      <td>...</td>\n",
       "      <td>...</td>\n",
       "      <td>...</td>\n",
       "      <td>...</td>\n",
       "      <td>...</td>\n",
       "    </tr>\n",
       "    <tr>\n",
       "      <th>S2213671113001306-908_T1-2u</th>\n",
       "      <td>S2213671113001306-908</td>\n",
       "      <td>T1-2u</td>\n",
       "      <td>2</td>\n",
       "      <td>Unit</td>\n",
       "      <td>[82, 84]</td>\n",
       "      <td>NaN</td>\n",
       "      <td>NaN</td>\n",
       "      <td>NaN</td>\n",
       "      <td>NaN</td>\n",
       "      <td>μm</td>\n",
       "      <td>NaN</td>\n",
       "      <td>NaN</td>\n",
       "    </tr>\n",
       "    <tr>\n",
       "      <th>S2213671113001306-910_T1-1u</th>\n",
       "      <td>S2213671113001306-910</td>\n",
       "      <td>T1-1u</td>\n",
       "      <td>1</td>\n",
       "      <td>Unit</td>\n",
       "      <td>[907, 908]</td>\n",
       "      <td>NaN</td>\n",
       "      <td>NaN</td>\n",
       "      <td>NaN</td>\n",
       "      <td>NaN</td>\n",
       "      <td>×</td>\n",
       "      <td>NaN</td>\n",
       "      <td>NaN</td>\n",
       "    </tr>\n",
       "    <tr>\n",
       "      <th>S2213671113001306-910_T1-2u</th>\n",
       "      <td>S2213671113001306-910</td>\n",
       "      <td>T1-2u</td>\n",
       "      <td>2</td>\n",
       "      <td>Unit</td>\n",
       "      <td>[980, 981]</td>\n",
       "      <td>NaN</td>\n",
       "      <td>NaN</td>\n",
       "      <td>NaN</td>\n",
       "      <td>NaN</td>\n",
       "      <td>×</td>\n",
       "      <td>NaN</td>\n",
       "      <td>NaN</td>\n",
       "    </tr>\n",
       "    <tr>\n",
       "      <th>S2213671113001306-910_T1-3u</th>\n",
       "      <td>S2213671113001306-910</td>\n",
       "      <td>T1-3u</td>\n",
       "      <td>3</td>\n",
       "      <td>Unit</td>\n",
       "      <td>[1006, 1008]</td>\n",
       "      <td>NaN</td>\n",
       "      <td>NaN</td>\n",
       "      <td>NaN</td>\n",
       "      <td>NaN</td>\n",
       "      <td>μm</td>\n",
       "      <td>NaN</td>\n",
       "      <td>NaN</td>\n",
       "    </tr>\n",
       "    <tr>\n",
       "      <th>S2213671113001306-910_T1-4u</th>\n",
       "      <td>S2213671113001306-910</td>\n",
       "      <td>T1-4u</td>\n",
       "      <td>4</td>\n",
       "      <td>Unit</td>\n",
       "      <td>[1019, 1021]</td>\n",
       "      <td>NaN</td>\n",
       "      <td>NaN</td>\n",
       "      <td>NaN</td>\n",
       "      <td>NaN</td>\n",
       "      <td>μm</td>\n",
       "      <td>NaN</td>\n",
       "      <td>NaN</td>\n",
       "    </tr>\n",
       "  </tbody>\n",
       "</table>\n",
       "<p>6151 rows × 12 columns</p>\n",
       "</div>"
      ],
      "text/plain": [
       "                                              docId annotId  annotSet  \\\n",
       "comboId                                                                 \n",
       "S0006322312001096-1136_T1-1  S0006322312001096-1136    T1-1         1   \n",
       "S0006322312001096-1136_T2-1  S0006322312001096-1136    T2-1         1   \n",
       "S0006322312001096-1136_T1-2  S0006322312001096-1136    T1-2         2   \n",
       "S0006322312001096-1136_T2-2  S0006322312001096-1136    T2-2         2   \n",
       "S0006322312001096-1136_T1-3  S0006322312001096-1136    T1-3         3   \n",
       "...                                             ...     ...       ...   \n",
       "S2213671113001306-908_T1-2u   S2213671113001306-908   T1-2u         2   \n",
       "S2213671113001306-910_T1-1u   S2213671113001306-910   T1-1u         1   \n",
       "S2213671113001306-910_T1-2u   S2213671113001306-910   T1-2u         2   \n",
       "S2213671113001306-910_T1-3u   S2213671113001306-910   T1-3u         3   \n",
       "S2213671113001306-910_T1-4u   S2213671113001306-910   T1-4u         4   \n",
       "\n",
       "                                  annotType     annotSpan  subSpanType linkId  \\\n",
       "comboId                                                                         \n",
       "S0006322312001096-1136_T1-1        Quantity      [73, 77]          NaN    NaN   \n",
       "S0006322312001096-1136_T2-1  MeasuredEntity      [49, 69]  HasQuantity   T1-1   \n",
       "S0006322312001096-1136_T1-2        Quantity    [103, 123]          NaN    NaN   \n",
       "S0006322312001096-1136_T2-2  MeasuredEntity      [79, 99]  HasQuantity   T1-2   \n",
       "S0006322312001096-1136_T1-3        Quantity    [205, 222]          NaN    NaN   \n",
       "...                                     ...           ...          ...    ...   \n",
       "S2213671113001306-908_T1-2u            Unit      [82, 84]          NaN    NaN   \n",
       "S2213671113001306-910_T1-1u            Unit    [907, 908]          NaN    NaN   \n",
       "S2213671113001306-910_T1-2u            Unit    [980, 981]          NaN    NaN   \n",
       "S2213671113001306-910_T1-3u            Unit  [1006, 1008]          NaN    NaN   \n",
       "S2213671113001306-910_T1-4u            Unit  [1019, 1021]          NaN    NaN   \n",
       "\n",
       "                               linkSpan    subSpan          unit  \\\n",
       "comboId                                                            \n",
       "S0006322312001096-1136_T1-1         NaN        NaN           NaN   \n",
       "S0006322312001096-1136_T2-1    [73, 77]   [49, 77]           NaN   \n",
       "S0006322312001096-1136_T1-2         NaN        NaN           NaN   \n",
       "S0006322312001096-1136_T2-2  [103, 123]  [79, 123]           NaN   \n",
       "S0006322312001096-1136_T1-3         NaN        NaN  participants   \n",
       "...                                 ...        ...           ...   \n",
       "S2213671113001306-908_T1-2u         NaN        NaN            μm   \n",
       "S2213671113001306-910_T1-1u         NaN        NaN             ×   \n",
       "S2213671113001306-910_T1-2u         NaN        NaN             ×   \n",
       "S2213671113001306-910_T1-3u         NaN        NaN            μm   \n",
       "S2213671113001306-910_T1-4u         NaN        NaN            μm   \n",
       "\n",
       "                               unitEncoded                  misc  \n",
       "comboId                                                           \n",
       "S0006322312001096-1136_T1-1            NaN                   NaN  \n",
       "S0006322312001096-1136_T2-1            NaN                   NaN  \n",
       "S0006322312001096-1136_T1-2            NaN  {'mods': ['IsList']}  \n",
       "S0006322312001096-1136_T2-2            NaN                   NaN  \n",
       "S0006322312001096-1136_T1-3  [42038, 3277]                   NaN  \n",
       "...                                    ...                   ...  \n",
       "S2213671113001306-908_T1-2u            NaN                   NaN  \n",
       "S2213671113001306-910_T1-1u            NaN                   NaN  \n",
       "S2213671113001306-910_T1-2u            NaN                   NaN  \n",
       "S2213671113001306-910_T1-3u            NaN                   NaN  \n",
       "S2213671113001306-910_T1-4u            NaN                   NaN  \n",
       "\n",
       "[6151 rows x 12 columns]"
      ]
     },
     "execution_count": 10,
     "metadata": {},
     "output_type": "execute_result"
    }
   ],
   "source": [
    "# add unit annotation spans labeling by:\n",
    "# 1. using row info to create dictionaries for unit span\n",
    "# 2. putting dictionaries into a unit df\n",
    "# 3. concatenating the unit df with combo_annot_processed df\n",
    "\n",
    "# filter df to where units are not nan values\n",
    "combo_annot_processed_units = combo_annot_processed\n",
    "combo_annot_processed_units = combo_annot_processed_units[~combo_annot_processed_units['unit'].isna()] \n",
    "\n",
    "def get_unit_subspan_row_info(docId, annotId, annotSet, annotType, annotSpan, unit):\n",
    "    \"\"\"\n",
    "    Input: combo_annot_processed_units columns (used as apply function across rows)\n",
    "    Output: df with new column 'dict'. For each row, 'dict' contains a dictionary\n",
    "    of the new row\n",
    "    \"\"\"\n",
    "\n",
    "    unit_rows_dict = {}\n",
    "    not_found_dict = {}\n",
    "\n",
    "    comboId = docId + \"_\" + annotId\n",
    "    docId = docId\n",
    "    annotId = annotId\n",
    "    annotSet = annotSet\n",
    "    annotType = annotType\n",
    "    annotSpan = annotSpan\n",
    "    unit = unit\n",
    "    \n",
    "    # get get doc, unit and quantity text along with quantity span\n",
    "    doc_text = combo_txt[docId]\n",
    "    quant_span = annotSpan\n",
    "    unit_txt = unit\n",
    "    quant_txt = doc_text[quant_span[0]:quant_span[1]]\n",
    "\n",
    "    # get unit span\n",
    "    # 1. try to set unit start; works only if the units are found within the quantity span\n",
    "    try:\n",
    "        unit_start = quant_txt.index(unit_txt) + quant_span[0]\n",
    "        unit_end = unit_start + len(unit_txt)\n",
    "\n",
    "    # 2. if not, then try to find units in an expanded quantity span\n",
    "    except ValueError:\n",
    "\n",
    "        try:\n",
    "            ## add margin to quant span search window (20 captures everything)\n",
    "            charSearchMargin = 20\n",
    "            quant_txt = doc_text[(quant_span[0]-charSearchMargin):(quant_span[1]+charSearchMargin)]\n",
    "\n",
    "            ## subtract margin\n",
    "            unit_start = quant_txt.index(unit_txt) + quant_span[0] - charSearchMargin\n",
    "            unit_end = unit_start + len(unit_txt)\n",
    "\n",
    "        # 3. if not either of those, adds the info to a dict (used for testing)\n",
    "        except ValueError:\n",
    "            not_found_dict[comboId] = (docId, doc_text, annotSpan, quant_txt, unit)\n",
    "\n",
    "    # set unit row vars\n",
    "    unit_comboId = docId + \"_\" + annotId + \"u\"\n",
    "    unit_docId = docId\n",
    "    unit_annotId = annotId + \"u\"\n",
    "    unit_annotSet = annotSet\n",
    "    unit_annotType = \"Unit\"\n",
    "    unit_annotSpan = (unit_start, unit_end)\n",
    "    unit_subSpanType = np.nan\n",
    "    unit_linkId = np.nan\n",
    "    unit_linkSpan = np.nan\n",
    "    unit_subSpan = np.nan\n",
    "    unit_unit = unit\n",
    "    unit_unitEncoded = np.nan\n",
    "    unit_misc = np.nan\n",
    "\n",
    "    # make dict of unit row values\n",
    "    unit_rows_dict['comboId'] = unit_comboId\n",
    "    unit_rows_dict['docId'] = unit_docId\n",
    "    unit_rows_dict['annotId'] = unit_annotId\n",
    "    unit_rows_dict['annotSet'] = unit_annotSet\n",
    "    unit_rows_dict['annotType'] = unit_annotType\n",
    "    unit_rows_dict['annotSpan'] = list(unit_annotSpan)\n",
    "    unit_rows_dict['subSpanType'] = unit_subSpanType\n",
    "    unit_rows_dict['linkId'] = unit_linkId\n",
    "    unit_rows_dict['linkSpan'] = unit_linkSpan\n",
    "    unit_rows_dict['subSpan'] = unit_subSpan\n",
    "    unit_rows_dict['unit'] = unit_unit\n",
    "    unit_rows_dict['unitEncoded'] = unit_unitEncoded\n",
    "    unit_rows_dict['misc'] = unit_misc\n",
    "\n",
    "    # print info for those that were not found\n",
    "    if len(not_found_dict) == 0:\n",
    "        pass\n",
    "    else:\n",
    "        print(not_found_dict)\n",
    "\n",
    "    return unit_rows_dict\n",
    "\n",
    "\n",
    "combo_annot_processed_units['dict'] = combo_annot_processed_units.apply(lambda row: get_unit_subspan_row_info(\n",
    "                                                                                row['docId'],\n",
    "                                                                                row['annotId'],\n",
    "                                                                                row['annotSet'],\n",
    "                                                                                row['annotType'],\n",
    "                                                                                row['annotSpan'],\n",
    "                                                                                row['unit']\n",
    "                                                                                ), axis=1)\n",
    "\n",
    "\n",
    "# generate dataframe containing units annotation span info \n",
    "units_df = pd.DataFrame.from_dict(list(combo_annot_processed_units['dict'].values)).set_index('comboId')\n",
    "\n",
    "# add the units df above to combo_annot_processed (total 6151 rows = 4853 rows from original combo_annot_processed and 1298 rows from units_df)\n",
    "combo_annot_processed = pd.concat([combo_annot_processed, units_df])\n",
    "combo_annot_processed"
   ]
  },
  {
   "cell_type": "code",
   "execution_count": 11,
   "metadata": {},
   "outputs": [],
   "source": [
    "def tokenize_and_align_labels(\n",
    "                                doc_list=combo_docs,\n",
    "                                txt=combo_txt,\n",
    "                                processed_annotation=combo_annot_processed,\n",
    "                                tokenizer=tokenizer,\n",
    "                                taskLabelMap=task_map\n",
    "                            ):\n",
    "\n",
    "    toks_with_labels = []\n",
    "    special_ids = tokenizer.all_special_ids\n",
    "    collisionDict = {}\n",
    "\n",
    "    for doc in doc_list:\n",
    "        within_doc_collision_count = 0\n",
    "        # print(doc)\n",
    "        # print(processed_annotation.loc[processed_annotation['docId'] == doc])\n",
    "        doc_annot = processed_annotation.loc[processed_annotation['docId'] == doc]\n",
    "        doc_annot.set_index('annotId',inplace=True)\n",
    "        # print(doc_annot)\n",
    "\n",
    "        encoded_txt = tokenizer(txt[doc], padding='max_length', max_length=512, truncation=True)\n",
    "        encoded_tokens = encoded_txt['input_ids']\n",
    "        # print(encoded_tokens)\n",
    "\n",
    "        ############### Label Primary Spans ###############\n",
    "\n",
    "        labelIds = np.full(len(encoded_tokens),-1)\n",
    "        taskCharMap = {} # Map of labels to be written within current doc\n",
    "        annotSet_writeMap = {} # Map of annotSet which last wrote any position index\n",
    "        taskCharList = []\n",
    "        collision = False\n",
    "\n",
    "        if len(doc_annot) > 0:\n",
    "            # iterate through each annotSet (necessary to allow for rollback on collision)\n",
    "            for annot_idx in range(int(doc_annot['annotSet'].max())):\n",
    "                curr_annotSet = annot_idx + 1\n",
    "                # print(annot_idx)\n",
    "                if collision:\n",
    "                    taskCharMap = taskCharMap_Backup\n",
    "                    annotSet_writeMap = annotSet_writeMap_Backup\n",
    "                taskCharMap_Backup = copy.deepcopy(taskCharMap)\n",
    "                annotSet_writeMap_Backup = copy.deepcopy(annotSet_writeMap)\n",
    "                # roll back (planned) labels if collision occurred on prior AnnotSet\n",
    "                collision = False\n",
    "                spans = list(doc_annot.loc[doc_annot['annotSet']==curr_annotSet]['annotSpan'])\n",
    "                # get the tasks (annotTypes) which match with each span\n",
    "                annotset_tasks = list(doc_annot.loc[doc_annot['annotSet']==curr_annotSet]['annotType'])\n",
    "                for i in range(len(spans)):\n",
    "                    span = list(range(spans[i][0],spans[i][-1]))\n",
    "                    annotset_task = annotset_tasks[i]\n",
    "                    # print(span)\n",
    "                    # print(annotset_task)\n",
    "                    if annotset_task in taskLabelMap.keys():\n",
    "                        for spanCharIdx in span:\n",
    "                            if spanCharIdx in taskCharMap:\n",
    "                                if taskCharMap[spanCharIdx] != taskLabelMap[annotset_task]:\n",
    "                                    # if we are still on the same annotSet\n",
    "                                    cond_1 = annotSet_writeMap[spanCharIdx] == curr_annotSet\n",
    "                                    # and we are attempting to write a 5 on top of a 1\n",
    "                                    # (i.e. write a Unit onto a Quantity)\n",
    "                                    cond_2 = taskLabelMap[annotset_task] == 5\n",
    "                                    cond_3 = taskCharMap[spanCharIdx] == 1\n",
    "                                    # error checking for unit rewriting qty\n",
    "                                    # within subsequent annotSets\n",
    "                                    # if cond_2 and cond_3:\n",
    "                                    #     print(\"AnnotSet Matches:\",cond_1)\n",
    "                                    if cond_1 and cond_2 and cond_3:\n",
    "                                        # allow the rewrite and do not flag collision\n",
    "                                        pass\n",
    "                                    else:\n",
    "                                        # print(\"=\"*45)\n",
    "                                        # print(\"Collision detected in doc\",doc)\n",
    "                                        # print(\"Previous mapped task:\",taskCharMap[spanCharIdx],\"new mapped task:\",taskLabelMap[annotset_task])\n",
    "                                        # print(\"Current span:\",span)\n",
    "                                        # print(\"Second (offending) annotSet will not be included.\")\n",
    "                                        # print(\"=\"*45)\n",
    "                                        collisionDict[doc + '_' + \n",
    "                                                      str(within_doc_collision_count \n",
    "                                                          + 1)] = span\n",
    "                                        collision = True\n",
    "                                        within_doc_collision_count += 1\n",
    "                                        break\n",
    "                                # print(spanCharIdx)\n",
    "                            taskCharMap[spanCharIdx] = taskLabelMap[annotset_task]\n",
    "                            annotSet_writeMap[spanCharIdx] = curr_annotSet\n",
    "                        if collision:\n",
    "                            continue\n",
    "                    else:\n",
    "                        continue\n",
    "    \n",
    "                        # print(taskCharMap)\n",
    "                            # taskAnnotIdCharMap[spanCharIdx] = annotId\n",
    "            \n",
    "\n",
    "        decoded = [''] * len(encoded_tokens)\n",
    "        for tokenIdx, token in enumerate(encoded_tokens):\n",
    "            \n",
    "            if token not in special_ids:\n",
    "                tokenCharStart = encoded_txt.token_to_chars(tokenIdx).start\n",
    "                if tokenCharStart in list(taskCharMap.keys()):\n",
    "                    labelIds[tokenIdx] = taskCharMap[tokenCharStart]\n",
    "                    decoded[tokenIdx] = tokenizer.decode(token)\n",
    "                else:\n",
    "                    labelIds[tokenIdx] = 0\n",
    "            else:\n",
    "                labelIds[tokenIdx] = 0\n",
    "        \n",
    "\n",
    "        ############### Sub Spans Token Insertion and labeling ###############\n",
    "\n",
    "        encoded_txt['doc_or_sent_id'] = doc\n",
    "        encoded_txt['labels'] = labelIds\n",
    "        \n",
    "        toks_with_labels.append(encoded_txt)\n",
    "        \n",
    "    print(\"Total collisions avoided:\", len(collisionDict))\n",
    "    \n",
    "    # return toks_with_labels\n",
    "    return pd.DataFrame.from_dict(toks_with_labels), collisionDict"
   ]
  },
  {
   "cell_type": "code",
   "execution_count": 12,
   "metadata": {},
   "outputs": [],
   "source": [
    "# stage1_train_ds, train_collisions = tokenize_and_align_labels(\n",
    "#     doc_list=train_docs,\n",
    "#     txt=combo_txt,\n",
    "#     processed_annotation=combo_annot_processed,\n",
    "#     tokenizer=tokenizer,\n",
    "#     taskLabelMap=task_map)\n",
    "\n",
    "# stage1_train_ds[stage1_train_ds['doc_or_sent_id']=='S0019103513005058-3154']"
   ]
  },
  {
   "cell_type": "code",
   "execution_count": 13,
   "metadata": {},
   "outputs": [
    {
     "name": "stdout",
     "output_type": "stream",
     "text": [
      "Total collisions avoided: 57\n",
      "Total collisions avoided: 12\n",
      "Total collisions avoided: 15\n"
     ]
    }
   ],
   "source": [
    "################# TOKENIZE #################\n",
    "\n",
    "stage1_train_ds, train_collisions = tokenize_and_align_labels(\n",
    "    doc_list=train_docs,\n",
    "    txt=combo_txt,\n",
    "    processed_annotation=combo_annot_processed,\n",
    "    tokenizer=tokenizer,\n",
    "    taskLabelMap=task_map)\n",
    "# stage1_train_ds.to_csv(interimpath+'stage1_train_ds.csv')\n",
    "stage1_n_train = stage1_train_ds.shape[0]\n",
    "\n",
    "\n",
    "stage1_dev_ds, dev_collisions = tokenize_and_align_labels(\n",
    "    doc_list=dev_docs,\n",
    "    txt=combo_txt,\n",
    "    processed_annotation=combo_annot_processed,\n",
    "    tokenizer=tokenizer,\n",
    "    taskLabelMap=task_map)\n",
    "# stage1_dev_ds.to_csv(interimpath+'stage1_dev_ds.csv')\n",
    "stage1_n_dev = stage1_dev_ds.shape[0]\n",
    "\n",
    "stage1_test_ds, test_collisions = tokenize_and_align_labels(\n",
    "    doc_list=test_docs,\n",
    "    txt=combo_txt,\n",
    "    processed_annotation=combo_annot_processed,\n",
    "    tokenizer=tokenizer,\n",
    "    taskLabelMap=task_map)\n",
    "# stage1_test_ds.to_csv(interimpath+'stage1_test_ds.csv')\n",
    "stage1_n_test = stage1_test_ds.shape[0]\n"
   ]
  },
  {
   "cell_type": "code",
   "execution_count": 14,
   "metadata": {},
   "outputs": [],
   "source": [
    "def get_distribution(dataset):\n",
    "    \"\"\"\n",
    "    Function to visualize label distribution for datasets\n",
    "\n",
    "    Input: train/test/dev dataframe with column 'labels'\n",
    "    Output: prints graph of proportion of labels and returns dict\n",
    "    with label as key and proportion as value\n",
    "    \"\"\"\n",
    "\n",
    "    # turn label array into counts array\n",
    "    def indiv_label_distribution(array_labels):\n",
    "        array_labels = array_labels\n",
    "        (unique, counts) = np.unique(array_labels, return_counts=True)\n",
    "        freq = np.asarray((unique, counts)).T\n",
    "        return freq\n",
    "\n",
    "    dataset = dataset\n",
    "    label_column = dataset['labels']\n",
    "    distr_dict = {}\n",
    "    dataset['distr_arr'] = label_column.apply(indiv_label_distribution)\n",
    "\n",
    "    # add counts from counts array into dictionary\n",
    "    def add_counts(array_counts):\n",
    "        array_counts = array_counts   \n",
    "        for row in array_counts:\n",
    "            if row[0] in distr_dict.keys():\n",
    "                distr_dict[row[0]] += row[1]\n",
    "            else:\n",
    "                distr_dict[row[0]] = row[1]\n",
    "\n",
    "    dataset['distr_arr'].apply(add_counts)\n",
    "\n",
    "    # remove 0 label and its counts\n",
    "    del distr_dict[0]\n",
    "\n",
    "    # plot\n",
    "    distr_dict_pct = {k: v / total for total in (sum(distr_dict.values()),) for k, v in distr_dict.items()}\n",
    "    fig = plt.figure()\n",
    "    ax = fig.add_axes([0,0,1,1])\n",
    "    lists = sorted(distr_dict_pct.items())\n",
    "    x, y = zip(*lists)\n",
    "    plt.bar(x, y)\n",
    "    plt.title(\"label distribution\")\n",
    "    plt.xlabel(\"label\")\n",
    "    plt.ylabel(\"proportion of all labels\")\n",
    "    plt.show()\n",
    "\n",
    "    print(\"label counts:\\n\", distr_dict, \"\\n\")\n",
    "    print(\"label proportions:\")\n",
    "    return distr_dict_pct\n",
    "\n"
   ]
  },
  {
   "cell_type": "code",
   "execution_count": 15,
   "metadata": {},
   "outputs": [
    {
     "data": {
      "image/png": "[encoded data removed]",
      "text/plain": [
       "<Figure size 432x288 with 1 Axes>"
      ]
     },
     "metadata": {
      "needs_background": "light"
     },
     "output_type": "display_data"
    },
    {
     "name": "stdout",
     "output_type": "stream",
     "text": [
      "label counts:\n",
      " {1: 739, 2: 543, 3: 855, 5: 339, 4: 259} \n",
      "\n",
      "label proportions:\n"
     ]
    },
    {
     "data": {
      "text/plain": [
       "{1: 0.27020109689213895,\n",
       " 2: 0.19853747714808043,\n",
       " 3: 0.3126142595978062,\n",
       " 5: 0.12394881170018282,\n",
       " 4: 0.09469835466179159}"
      ]
     },
     "execution_count": 15,
     "metadata": {},
     "output_type": "execute_result"
    }
   ],
   "source": [
    "# check out distribution of training set labels\n",
    "get_distribution(stage1_train_ds)"
   ]
  },
  {
   "cell_type": "code",
   "execution_count": 16,
   "metadata": {},
   "outputs": [
    {
     "data": {
      "image/png": "[encoded data removed]",
      "text/plain": [
       "<Figure size 432x288 with 1 Axes>"
      ]
     },
     "metadata": {
      "needs_background": "light"
     },
     "output_type": "display_data"
    },
    {
     "name": "stdout",
     "output_type": "stream",
     "text": [
      "label counts:\n",
      " {1: 315, 2: 161, 3: 279, 4: 159, 5: 135} \n",
      "\n",
      "label proportions:\n"
     ]
    },
    {
     "data": {
      "text/plain": [
       "{1: 0.30028598665395617,\n",
       " 2: 0.1534795042897998,\n",
       " 3: 0.2659675881792183,\n",
       " 4: 0.1515729265967588,\n",
       " 5: 0.12869399428026693}"
      ]
     },
     "execution_count": 16,
     "metadata": {},
     "output_type": "execute_result"
    }
   ],
   "source": [
    "# check out distribution of dev set labels\n",
    "get_distribution(stage1_dev_ds)"
   ]
  },
  {
   "cell_type": "code",
   "execution_count": 17,
   "metadata": {},
   "outputs": [
    {
     "data": {
      "image/png": "[encoded data removed]",
      "text/plain": [
       "<Figure size 432x288 with 1 Axes>"
      ]
     },
     "metadata": {
      "needs_background": "light"
     },
     "output_type": "display_data"
    },
    {
     "name": "stdout",
     "output_type": "stream",
     "text": [
      "label counts:\n",
      " {1: 91, 2: 66, 3: 115, 5: 53, 4: 61} \n",
      "\n",
      "label proportions:\n"
     ]
    },
    {
     "data": {
      "text/plain": [
       "{1: 0.23575129533678757,\n",
       " 2: 0.17098445595854922,\n",
       " 3: 0.2979274611398964,\n",
       " 5: 0.13730569948186527,\n",
       " 4: 0.15803108808290156}"
      ]
     },
     "execution_count": 17,
     "metadata": {},
     "output_type": "execute_result"
    }
   ],
   "source": [
    "# check out distribution of test set labels\n",
    "get_distribution(stage1_test_ds)"
   ]
  },
  {
   "cell_type": "code",
   "execution_count": 18,
   "metadata": {},
   "outputs": [],
   "source": [
    "### Matt\n",
    "# def shorten_txt_encoding(txt, shorten_by : int):       \n",
    "#     pass...\n",
    "\n",
    "# generate a list of docIds that have token collision after shortening\n",
    "\n",
    "# toks = list(stage1_dev_ds.sample(1)['input_ids'])\n",
    "\n",
    "# print(toks[0])\n",
    "\n",
    "# tokenizer.decode(toks[0])"
   ]
  },
  {
   "cell_type": "code",
   "execution_count": 19,
   "metadata": {},
   "outputs": [],
   "source": [
    "def batchify(tokenized_dataset, batch_size, device):\n",
    "    num_examples = int(tokenized_dataset.shape[0] / batch_size)\n",
    "    batch_sizes = [batch_size for x in range(num_examples)]\n",
    "    last_batch_size = tokenized_dataset.shape[0] % batch_size\n",
    "    if last_batch_size:\n",
    "        batch_sizes.append(last_batch_size)\n",
    "    # print(batch_sizes)\n",
    "\n",
    "    batched_dataset = []\n",
    "\n",
    "    idf_to_torch = lambda df : torch.tensor(np.array([list(map(int,r)) for r in df])).to(device)\n",
    "\n",
    "    for idx, size in enumerate(batch_sizes):\n",
    "        start = sum(batch_sizes[:idx])\n",
    "        end = sum(batch_sizes[:idx]) + size - 1\n",
    "        # print(start,end,idx)\n",
    "        input_ids = idf_to_torch(tokenized_dataset['input_ids'].loc[start:end])\n",
    "        attention_mask = idf_to_torch(tokenized_dataset['attention_mask'].loc[start:end])\n",
    "        labels = idf_to_torch(tokenized_dataset['labels'].loc[start:end])\n",
    "        doc_or_sent_id = list(tokenized_dataset['doc_or_sent_id'].loc[start:end])\n",
    "        \n",
    "        batch = {\n",
    "            'input_ids':input_ids,\n",
    "            'labels':labels,\n",
    "            'attention_mask':attention_mask,\n",
    "            'doc_or_sent_id':doc_or_sent_id\n",
    "\n",
    "        }\n",
    "        \n",
    "        batched_dataset.append(batch)\n",
    "\n",
    "    return batched_dataset"
   ]
  },
  {
   "cell_type": "code",
   "execution_count": 20,
   "metadata": {},
   "outputs": [],
   "source": [
    "################# batchify ####################\n",
    "\n",
    "batched_train_ds = batchify(stage1_train_ds[['attention_mask','input_ids','labels','doc_or_sent_id']], batch_size, device)\n",
    "batched_dev_ds = batchify(stage1_dev_ds[['attention_mask','input_ids','labels','doc_or_sent_id']], batch_size, device)\n",
    "batched_test_ds = batchify(stage1_test_ds[['attention_mask','input_ids','labels','doc_or_sent_id']], batch_size, device)\n"
   ]
  },
  {
   "cell_type": "code",
   "execution_count": 21,
   "metadata": {},
   "outputs": [
    {
     "data": {
      "text/plain": [
       "{'input_ids': tensor([[    0,  3750, 46032,  ...,     1,     1,     1],\n",
       "         [    0, 43958, 46032,  ...,     1,     1,     1],\n",
       "         [    0,   970,    32,  ...,     1,     1,     1],\n",
       "         ...,\n",
       "         [    0,   133,  1007,  ...,     1,     1,     1],\n",
       "         [    0,   133, 37920,  ...,     1,     1,     1],\n",
       "         [    0, 44105,     4,  ...,     1,     1,     1]], device='cuda:0'),\n",
       " 'labels': tensor([[0, 0, 0,  ..., 0, 0, 0],\n",
       "         [0, 0, 0,  ..., 0, 0, 0],\n",
       "         [0, 0, 0,  ..., 0, 0, 0],\n",
       "         ...,\n",
       "         [0, 0, 0,  ..., 0, 0, 0],\n",
       "         [0, 0, 0,  ..., 0, 0, 0],\n",
       "         [0, 0, 0,  ..., 0, 0, 0]], device='cuda:0'),\n",
       " 'attention_mask': tensor([[1, 1, 1,  ..., 0, 0, 0],\n",
       "         [1, 1, 1,  ..., 0, 0, 0],\n",
       "         [1, 1, 1,  ..., 0, 0, 0],\n",
       "         ...,\n",
       "         [1, 1, 1,  ..., 0, 0, 0],\n",
       "         [1, 1, 1,  ..., 0, 0, 0],\n",
       "         [1, 1, 1,  ..., 0, 0, 0]], device='cuda:0'),\n",
       " 'doc_or_sent_id': ['S0019103513005058-4098',\n",
       "  'S0032063313003218-5381',\n",
       "  'S0927024813002961-1334',\n",
       "  'S0032386113005454-2008',\n",
       "  'S0257897213007573-574',\n",
       "  'S0927024813002961-1051',\n",
       "  'S0378383912000130-3907',\n",
       "  'S0167610513001001-1618']}"
      ]
     },
     "execution_count": 21,
     "metadata": {},
     "output_type": "execute_result"
    }
   ],
   "source": [
    "batched_train_ds[0]"
   ]
  },
  {
   "cell_type": "code",
   "execution_count": 22,
   "metadata": {},
   "outputs": [
    {
     "name": "stdout",
     "output_type": "stream",
     "text": [
      "{'Quantity': 1, 'MeasuredProperty': 2, 'MeasuredEntity': 3, 'Qualifier': 4, 'Unit': 5}\n"
     ]
    }
   ],
   "source": [
    "demo_batch = 2\n",
    "\n",
    "demo_batch = batched_train_ds[demo_batch]\n",
    "\n",
    "\n",
    "demo_doc = demo_batch['doc_or_sent_id'][0]\n",
    "demo_ids = demo_batch['input_ids'].cpu().numpy()[0]\n",
    "demo_tokens = tokenizer.decode(demo_batch['input_ids'].cpu().numpy()[0])\n",
    "demo_labels = demo_batch['labels'].cpu().numpy()[0]\n",
    "demo_mask = demo_batch['attention_mask'].cpu().numpy()[0]\n",
    "latch_print = False\n",
    "labeled_tokens = ''\n",
    "for id, lab in zip(demo_ids, demo_labels):\n",
    "    if lab:\n",
    "        labeled_tokens = labeled_tokens + tokenizer.decode(id) + ' '\n",
    "\n",
    "print(task_map)\n"
   ]
  },
  {
   "cell_type": "code",
   "execution_count": 23,
   "metadata": {},
   "outputs": [
    {
     "data": {
      "text/plain": [
       "'S016412121300188X-5038'"
      ]
     },
     "execution_count": 23,
     "metadata": {},
     "output_type": "execute_result"
    }
   ],
   "source": [
    "demo_doc"
   ]
  },
  {
   "cell_type": "code",
   "execution_count": 24,
   "metadata": {},
   "outputs": [
    {
     "name": "stdout",
     "output_type": "stream",
     "text": [
      "[    0  1620    41  1948     7   248  1864   406     6    42   892  5684\n",
      "    14  3867    89    16  1233  4885  7257  5137     9     5   467     6\n",
      " 29977 18016 11729  1091  4375   148   467 10795     8  4634 19369     5\n",
      "  2731  9437     9     5   586    11    70   130   403  3218     4  7543\n",
      "   173    40 19795    42 45045   892    15    10   739  3260 42168     7\n",
      " 29477   549    42  5443  3106    13    97  1767     4     2     1     1\n",
      "     1     1     1     1     1     1     1     1     1     1     1     1\n",
      "     1     1     1     1     1     1     1     1     1     1     1     1\n",
      "     1     1     1     1     1     1     1     1     1     1     1     1\n",
      "     1     1     1     1     1     1     1     1     1     1     1     1\n",
      "     1     1     1     1     1     1     1     1     1     1     1     1\n",
      "     1     1     1     1     1     1     1     1     1     1     1     1\n",
      "     1     1     1     1     1     1     1     1     1     1     1     1\n",
      "     1     1     1     1     1     1     1     1     1     1     1     1\n",
      "     1     1     1     1     1     1     1     1     1     1     1     1\n",
      "     1     1     1     1     1     1     1     1     1     1     1     1\n",
      "     1     1     1     1     1     1     1     1     1     1     1     1\n",
      "     1     1     1     1     1     1     1     1     1     1     1     1\n",
      "     1     1     1     1     1     1     1     1     1     1     1     1\n",
      "     1     1     1     1     1     1     1     1     1     1     1     1\n",
      "     1     1     1     1     1     1     1     1     1     1     1     1\n",
      "     1     1     1     1     1     1     1     1     1     1     1     1\n",
      "     1     1     1     1     1     1     1     1     1     1     1     1\n",
      "     1     1     1     1     1     1     1     1     1     1     1     1\n",
      "     1     1     1     1     1     1     1     1     1     1     1     1\n",
      "     1     1     1     1     1     1     1     1     1     1     1     1\n",
      "     1     1     1     1     1     1     1     1     1     1     1     1\n",
      "     1     1     1     1     1     1     1     1     1     1     1     1\n",
      "     1     1     1     1     1     1     1     1     1     1     1     1\n",
      "     1     1     1     1     1     1     1     1     1     1     1     1\n",
      "     1     1     1     1     1     1     1     1     1     1     1     1\n",
      "     1     1     1     1     1     1     1     1     1     1     1     1\n",
      "     1     1     1     1     1     1     1     1     1     1     1     1\n",
      "     1     1     1     1     1     1     1     1     1     1     1     1\n",
      "     1     1     1     1     1     1     1     1     1     1     1     1\n",
      "     1     1     1     1     1     1     1     1     1     1     1     1\n",
      "     1     1     1     1     1     1     1     1     1     1     1     1\n",
      "     1     1     1     1     1     1     1     1     1     1     1     1\n",
      "     1     1     1     1     1     1     1     1     1     1     1     1\n",
      "     1     1     1     1     1     1     1     1     1     1     1     1\n",
      "     1     1     1     1     1     1     1     1     1     1     1     1\n",
      "     1     1     1     1     1     1     1     1     1     1     1     1\n",
      "     1     1     1     1     1     1     1     1]\n"
     ]
    }
   ],
   "source": [
    "print(demo_ids)"
   ]
  },
  {
   "cell_type": "code",
   "execution_count": 25,
   "metadata": {},
   "outputs": [
    {
     "name": "stdout",
     "output_type": "stream",
     "text": [
      "[0 0 0 0 0 0 0 0 0 0 0 0 0 0 0 0 0 0 0 0 0 0 0 0 0 0 0 0 0 0 0 0 0 0 0 0 0\n",
      " 0 0 0 0 0 0 1 3 3 0 0 0 0 0 0 0 0 0 0 0 0 0 0 0 0 0 0 0 0 0 0 0 0 0 0 0 0\n",
      " 0 0 0 0 0 0 0 0 0 0 0 0 0 0 0 0 0 0 0 0 0 0 0 0 0 0 0 0 0 0 0 0 0 0 0 0 0\n",
      " 0 0 0 0 0 0 0 0 0 0 0 0 0 0 0 0 0 0 0 0 0 0 0 0 0 0 0 0 0 0 0 0 0 0 0 0 0\n",
      " 0 0 0 0 0 0 0 0 0 0 0 0 0 0 0 0 0 0 0 0 0 0 0 0 0 0 0 0 0 0 0 0 0 0 0 0 0\n",
      " 0 0 0 0 0 0 0 0 0 0 0 0 0 0 0 0 0 0 0 0 0 0 0 0 0 0 0 0 0 0 0 0 0 0 0 0 0\n",
      " 0 0 0 0 0 0 0 0 0 0 0 0 0 0 0 0 0 0 0 0 0 0 0 0 0 0 0 0 0 0 0 0 0 0 0 0 0\n",
      " 0 0 0 0 0 0 0 0 0 0 0 0 0 0 0 0 0 0 0 0 0 0 0 0 0 0 0 0 0 0 0 0 0 0 0 0 0\n",
      " 0 0 0 0 0 0 0 0 0 0 0 0 0 0 0 0 0 0 0 0 0 0 0 0 0 0 0 0 0 0 0 0 0 0 0 0 0\n",
      " 0 0 0 0 0 0 0 0 0 0 0 0 0 0 0 0 0 0 0 0 0 0 0 0 0 0 0 0 0 0 0 0 0 0 0 0 0\n",
      " 0 0 0 0 0 0 0 0 0 0 0 0 0 0 0 0 0 0 0 0 0 0 0 0 0 0 0 0 0 0 0 0 0 0 0 0 0\n",
      " 0 0 0 0 0 0 0 0 0 0 0 0 0 0 0 0 0 0 0 0 0 0 0 0 0 0 0 0 0 0 0 0 0 0 0 0 0\n",
      " 0 0 0 0 0 0 0 0 0 0 0 0 0 0 0 0 0 0 0 0 0 0 0 0 0 0 0 0 0 0 0 0 0 0 0 0 0\n",
      " 0 0 0 0 0 0 0 0 0 0 0 0 0 0 0 0 0 0 0 0 0 0 0 0 0 0 0 0 0 0 0]\n"
     ]
    }
   ],
   "source": [
    "print(demo_labels)"
   ]
  },
  {
   "cell_type": "code",
   "execution_count": 26,
   "metadata": {},
   "outputs": [
    {
     "name": "stdout",
     "output_type": "stream",
     "text": [
      "<s>As an answer to RQ7, this study finds that unless there is significant refactoring of the system, coherent cluster profiles remain stable during system evolution and thus captures the core architecture of the program in all three case studies. Future work will replicate this longitudinal study on a large code corpus to ascertain whether this stability holds for other programs.</s><pad><pad><pad><pad><pad><pad><pad><pad><pad><pad><pad><pad><pad><pad><pad><pad><pad><pad><pad><pad><pad><pad><pad><pad><pad><pad><pad><pad><pad><pad><pad><pad><pad><pad><pad><pad><pad><pad><pad><pad><pad><pad><pad><pad><pad><pad><pad><pad><pad><pad><pad><pad><pad><pad><pad><pad><pad><pad><pad><pad><pad><pad><pad><pad><pad><pad><pad><pad><pad><pad><pad><pad><pad><pad><pad><pad><pad><pad><pad><pad><pad><pad><pad><pad><pad><pad><pad><pad><pad><pad><pad><pad><pad><pad><pad><pad><pad><pad><pad><pad><pad><pad><pad><pad><pad><pad><pad><pad><pad><pad><pad><pad><pad><pad><pad><pad><pad><pad><pad><pad><pad><pad><pad><pad><pad><pad><pad><pad><pad><pad><pad><pad><pad><pad><pad><pad><pad><pad><pad><pad><pad><pad><pad><pad><pad><pad><pad><pad><pad><pad><pad><pad><pad><pad><pad><pad><pad><pad><pad><pad><pad><pad><pad><pad><pad><pad><pad><pad><pad><pad><pad><pad><pad><pad><pad><pad><pad><pad><pad><pad><pad><pad><pad><pad><pad><pad><pad><pad><pad><pad><pad><pad><pad><pad><pad><pad><pad><pad><pad><pad><pad><pad><pad><pad><pad><pad><pad><pad><pad><pad><pad><pad><pad><pad><pad><pad><pad><pad><pad><pad><pad><pad><pad><pad><pad><pad><pad><pad><pad><pad><pad><pad><pad><pad><pad><pad><pad><pad><pad><pad><pad><pad><pad><pad><pad><pad><pad><pad><pad><pad><pad><pad><pad><pad><pad><pad><pad><pad><pad><pad><pad><pad><pad><pad><pad><pad><pad><pad><pad><pad><pad><pad><pad><pad><pad><pad><pad><pad><pad><pad><pad><pad><pad><pad><pad><pad><pad><pad><pad><pad><pad><pad><pad><pad><pad><pad><pad><pad><pad><pad><pad><pad><pad><pad><pad><pad><pad><pad><pad><pad><pad><pad><pad><pad><pad><pad><pad><pad><pad><pad><pad><pad><pad><pad><pad><pad><pad><pad><pad><pad><pad><pad><pad><pad><pad><pad><pad><pad><pad><pad><pad><pad><pad><pad><pad><pad><pad><pad><pad><pad><pad><pad><pad><pad><pad><pad><pad><pad><pad><pad><pad><pad><pad><pad><pad><pad><pad><pad><pad><pad><pad><pad><pad><pad><pad><pad><pad><pad><pad><pad><pad><pad><pad><pad><pad><pad><pad><pad><pad><pad><pad><pad><pad><pad><pad><pad><pad><pad><pad><pad><pad><pad><pad><pad><pad><pad><pad><pad><pad><pad><pad><pad><pad><pad><pad><pad><pad><pad><pad><pad><pad><pad><pad><pad><pad><pad><pad><pad><pad><pad><pad><pad><pad><pad><pad><pad><pad><pad><pad><pad><pad><pad>\n"
     ]
    }
   ],
   "source": [
    "print(demo_tokens)"
   ]
  },
  {
   "cell_type": "code",
   "execution_count": 27,
   "metadata": {},
   "outputs": [
    {
     "data": {
      "text/html": [
       "<div>\n",
       "<style scoped>\n",
       "    .dataframe tbody tr th:only-of-type {\n",
       "        vertical-align: middle;\n",
       "    }\n",
       "\n",
       "    .dataframe tbody tr th {\n",
       "        vertical-align: top;\n",
       "    }\n",
       "\n",
       "    .dataframe thead th {\n",
       "        text-align: right;\n",
       "    }\n",
       "</style>\n",
       "<table border=\"1\" class=\"dataframe\">\n",
       "  <thead>\n",
       "    <tr style=\"text-align: right;\">\n",
       "      <th></th>\n",
       "      <th>docId</th>\n",
       "      <th>annotId</th>\n",
       "      <th>annotSet</th>\n",
       "      <th>annotType</th>\n",
       "      <th>annotSpan</th>\n",
       "      <th>subSpanType</th>\n",
       "      <th>linkId</th>\n",
       "      <th>linkSpan</th>\n",
       "      <th>subSpan</th>\n",
       "      <th>unit</th>\n",
       "      <th>unitEncoded</th>\n",
       "      <th>misc</th>\n",
       "    </tr>\n",
       "    <tr>\n",
       "      <th>comboId</th>\n",
       "      <th></th>\n",
       "      <th></th>\n",
       "      <th></th>\n",
       "      <th></th>\n",
       "      <th></th>\n",
       "      <th></th>\n",
       "      <th></th>\n",
       "      <th></th>\n",
       "      <th></th>\n",
       "      <th></th>\n",
       "      <th></th>\n",
       "      <th></th>\n",
       "    </tr>\n",
       "  </thead>\n",
       "  <tbody>\n",
       "    <tr>\n",
       "      <th>S0006322312001096-1136_T1-1</th>\n",
       "      <td>S0006322312001096-1136</td>\n",
       "      <td>T1-1</td>\n",
       "      <td>1</td>\n",
       "      <td>Quantity</td>\n",
       "      <td>[73, 77]</td>\n",
       "      <td>NaN</td>\n",
       "      <td>NaN</td>\n",
       "      <td>NaN</td>\n",
       "      <td>NaN</td>\n",
       "      <td>NaN</td>\n",
       "      <td>NaN</td>\n",
       "      <td>NaN</td>\n",
       "    </tr>\n",
       "    <tr>\n",
       "      <th>S0006322312001096-1136_T2-1</th>\n",
       "      <td>S0006322312001096-1136</td>\n",
       "      <td>T2-1</td>\n",
       "      <td>1</td>\n",
       "      <td>MeasuredEntity</td>\n",
       "      <td>[49, 69]</td>\n",
       "      <td>HasQuantity</td>\n",
       "      <td>T1-1</td>\n",
       "      <td>[73, 77]</td>\n",
       "      <td>[49, 77]</td>\n",
       "      <td>NaN</td>\n",
       "      <td>NaN</td>\n",
       "      <td>NaN</td>\n",
       "    </tr>\n",
       "    <tr>\n",
       "      <th>S0006322312001096-1136_T1-2</th>\n",
       "      <td>S0006322312001096-1136</td>\n",
       "      <td>T1-2</td>\n",
       "      <td>2</td>\n",
       "      <td>Quantity</td>\n",
       "      <td>[103, 123]</td>\n",
       "      <td>NaN</td>\n",
       "      <td>NaN</td>\n",
       "      <td>NaN</td>\n",
       "      <td>NaN</td>\n",
       "      <td>NaN</td>\n",
       "      <td>NaN</td>\n",
       "      <td>{'mods': ['IsList']}</td>\n",
       "    </tr>\n",
       "    <tr>\n",
       "      <th>S0006322312001096-1136_T2-2</th>\n",
       "      <td>S0006322312001096-1136</td>\n",
       "      <td>T2-2</td>\n",
       "      <td>2</td>\n",
       "      <td>MeasuredEntity</td>\n",
       "      <td>[79, 99]</td>\n",
       "      <td>HasQuantity</td>\n",
       "      <td>T1-2</td>\n",
       "      <td>[103, 123]</td>\n",
       "      <td>[79, 123]</td>\n",
       "      <td>NaN</td>\n",
       "      <td>NaN</td>\n",
       "      <td>NaN</td>\n",
       "    </tr>\n",
       "    <tr>\n",
       "      <th>S0006322312001096-1136_T1-3</th>\n",
       "      <td>S0006322312001096-1136</td>\n",
       "      <td>T1-3</td>\n",
       "      <td>3</td>\n",
       "      <td>Quantity</td>\n",
       "      <td>[205, 222]</td>\n",
       "      <td>NaN</td>\n",
       "      <td>NaN</td>\n",
       "      <td>NaN</td>\n",
       "      <td>NaN</td>\n",
       "      <td>participants</td>\n",
       "      <td>[42038, 3277]</td>\n",
       "      <td>NaN</td>\n",
       "    </tr>\n",
       "    <tr>\n",
       "      <th>...</th>\n",
       "      <td>...</td>\n",
       "      <td>...</td>\n",
       "      <td>...</td>\n",
       "      <td>...</td>\n",
       "      <td>...</td>\n",
       "      <td>...</td>\n",
       "      <td>...</td>\n",
       "      <td>...</td>\n",
       "      <td>...</td>\n",
       "      <td>...</td>\n",
       "      <td>...</td>\n",
       "      <td>...</td>\n",
       "    </tr>\n",
       "    <tr>\n",
       "      <th>S2213671113001306-908_T1-2u</th>\n",
       "      <td>S2213671113001306-908</td>\n",
       "      <td>T1-2u</td>\n",
       "      <td>2</td>\n",
       "      <td>Unit</td>\n",
       "      <td>[82, 84]</td>\n",
       "      <td>NaN</td>\n",
       "      <td>NaN</td>\n",
       "      <td>NaN</td>\n",
       "      <td>NaN</td>\n",
       "      <td>μm</td>\n",
       "      <td>NaN</td>\n",
       "      <td>NaN</td>\n",
       "    </tr>\n",
       "    <tr>\n",
       "      <th>S2213671113001306-910_T1-1u</th>\n",
       "      <td>S2213671113001306-910</td>\n",
       "      <td>T1-1u</td>\n",
       "      <td>1</td>\n",
       "      <td>Unit</td>\n",
       "      <td>[907, 908]</td>\n",
       "      <td>NaN</td>\n",
       "      <td>NaN</td>\n",
       "      <td>NaN</td>\n",
       "      <td>NaN</td>\n",
       "      <td>×</td>\n",
       "      <td>NaN</td>\n",
       "      <td>NaN</td>\n",
       "    </tr>\n",
       "    <tr>\n",
       "      <th>S2213671113001306-910_T1-2u</th>\n",
       "      <td>S2213671113001306-910</td>\n",
       "      <td>T1-2u</td>\n",
       "      <td>2</td>\n",
       "      <td>Unit</td>\n",
       "      <td>[980, 981]</td>\n",
       "      <td>NaN</td>\n",
       "      <td>NaN</td>\n",
       "      <td>NaN</td>\n",
       "      <td>NaN</td>\n",
       "      <td>×</td>\n",
       "      <td>NaN</td>\n",
       "      <td>NaN</td>\n",
       "    </tr>\n",
       "    <tr>\n",
       "      <th>S2213671113001306-910_T1-3u</th>\n",
       "      <td>S2213671113001306-910</td>\n",
       "      <td>T1-3u</td>\n",
       "      <td>3</td>\n",
       "      <td>Unit</td>\n",
       "      <td>[1006, 1008]</td>\n",
       "      <td>NaN</td>\n",
       "      <td>NaN</td>\n",
       "      <td>NaN</td>\n",
       "      <td>NaN</td>\n",
       "      <td>μm</td>\n",
       "      <td>NaN</td>\n",
       "      <td>NaN</td>\n",
       "    </tr>\n",
       "    <tr>\n",
       "      <th>S2213671113001306-910_T1-4u</th>\n",
       "      <td>S2213671113001306-910</td>\n",
       "      <td>T1-4u</td>\n",
       "      <td>4</td>\n",
       "      <td>Unit</td>\n",
       "      <td>[1019, 1021]</td>\n",
       "      <td>NaN</td>\n",
       "      <td>NaN</td>\n",
       "      <td>NaN</td>\n",
       "      <td>NaN</td>\n",
       "      <td>μm</td>\n",
       "      <td>NaN</td>\n",
       "      <td>NaN</td>\n",
       "    </tr>\n",
       "  </tbody>\n",
       "</table>\n",
       "<p>6151 rows × 12 columns</p>\n",
       "</div>"
      ],
      "text/plain": [
       "                                              docId annotId  annotSet  \\\n",
       "comboId                                                                 \n",
       "S0006322312001096-1136_T1-1  S0006322312001096-1136    T1-1         1   \n",
       "S0006322312001096-1136_T2-1  S0006322312001096-1136    T2-1         1   \n",
       "S0006322312001096-1136_T1-2  S0006322312001096-1136    T1-2         2   \n",
       "S0006322312001096-1136_T2-2  S0006322312001096-1136    T2-2         2   \n",
       "S0006322312001096-1136_T1-3  S0006322312001096-1136    T1-3         3   \n",
       "...                                             ...     ...       ...   \n",
       "S2213671113001306-908_T1-2u   S2213671113001306-908   T1-2u         2   \n",
       "S2213671113001306-910_T1-1u   S2213671113001306-910   T1-1u         1   \n",
       "S2213671113001306-910_T1-2u   S2213671113001306-910   T1-2u         2   \n",
       "S2213671113001306-910_T1-3u   S2213671113001306-910   T1-3u         3   \n",
       "S2213671113001306-910_T1-4u   S2213671113001306-910   T1-4u         4   \n",
       "\n",
       "                                  annotType     annotSpan  subSpanType linkId  \\\n",
       "comboId                                                                         \n",
       "S0006322312001096-1136_T1-1        Quantity      [73, 77]          NaN    NaN   \n",
       "S0006322312001096-1136_T2-1  MeasuredEntity      [49, 69]  HasQuantity   T1-1   \n",
       "S0006322312001096-1136_T1-2        Quantity    [103, 123]          NaN    NaN   \n",
       "S0006322312001096-1136_T2-2  MeasuredEntity      [79, 99]  HasQuantity   T1-2   \n",
       "S0006322312001096-1136_T1-3        Quantity    [205, 222]          NaN    NaN   \n",
       "...                                     ...           ...          ...    ...   \n",
       "S2213671113001306-908_T1-2u            Unit      [82, 84]          NaN    NaN   \n",
       "S2213671113001306-910_T1-1u            Unit    [907, 908]          NaN    NaN   \n",
       "S2213671113001306-910_T1-2u            Unit    [980, 981]          NaN    NaN   \n",
       "S2213671113001306-910_T1-3u            Unit  [1006, 1008]          NaN    NaN   \n",
       "S2213671113001306-910_T1-4u            Unit  [1019, 1021]          NaN    NaN   \n",
       "\n",
       "                               linkSpan    subSpan          unit  \\\n",
       "comboId                                                            \n",
       "S0006322312001096-1136_T1-1         NaN        NaN           NaN   \n",
       "S0006322312001096-1136_T2-1    [73, 77]   [49, 77]           NaN   \n",
       "S0006322312001096-1136_T1-2         NaN        NaN           NaN   \n",
       "S0006322312001096-1136_T2-2  [103, 123]  [79, 123]           NaN   \n",
       "S0006322312001096-1136_T1-3         NaN        NaN  participants   \n",
       "...                                 ...        ...           ...   \n",
       "S2213671113001306-908_T1-2u         NaN        NaN            μm   \n",
       "S2213671113001306-910_T1-1u         NaN        NaN             ×   \n",
       "S2213671113001306-910_T1-2u         NaN        NaN             ×   \n",
       "S2213671113001306-910_T1-3u         NaN        NaN            μm   \n",
       "S2213671113001306-910_T1-4u         NaN        NaN            μm   \n",
       "\n",
       "                               unitEncoded                  misc  \n",
       "comboId                                                           \n",
       "S0006322312001096-1136_T1-1            NaN                   NaN  \n",
       "S0006322312001096-1136_T2-1            NaN                   NaN  \n",
       "S0006322312001096-1136_T1-2            NaN  {'mods': ['IsList']}  \n",
       "S0006322312001096-1136_T2-2            NaN                   NaN  \n",
       "S0006322312001096-1136_T1-3  [42038, 3277]                   NaN  \n",
       "...                                    ...                   ...  \n",
       "S2213671113001306-908_T1-2u            NaN                   NaN  \n",
       "S2213671113001306-910_T1-1u            NaN                   NaN  \n",
       "S2213671113001306-910_T1-2u            NaN                   NaN  \n",
       "S2213671113001306-910_T1-3u            NaN                   NaN  \n",
       "S2213671113001306-910_T1-4u            NaN                   NaN  \n",
       "\n",
       "[6151 rows x 12 columns]"
      ]
     },
     "execution_count": 27,
     "metadata": {},
     "output_type": "execute_result"
    }
   ],
   "source": [
    "combo_annot_processed"
   ]
  },
  {
   "cell_type": "code",
   "execution_count": 28,
   "metadata": {},
   "outputs": [
    {
     "data": {
      "text/plain": [
       "'S016412121300188X-5038'"
      ]
     },
     "execution_count": 28,
     "metadata": {},
     "output_type": "execute_result"
    }
   ],
   "source": [
    "demo_doc"
   ]
  },
  {
   "cell_type": "code",
   "execution_count": 29,
   "metadata": {},
   "outputs": [
    {
     "data": {
      "text/html": [
       "<div>\n",
       "<style scoped>\n",
       "    .dataframe tbody tr th:only-of-type {\n",
       "        vertical-align: middle;\n",
       "    }\n",
       "\n",
       "    .dataframe tbody tr th {\n",
       "        vertical-align: top;\n",
       "    }\n",
       "\n",
       "    .dataframe thead th {\n",
       "        text-align: right;\n",
       "    }\n",
       "</style>\n",
       "<table border=\"1\" class=\"dataframe\">\n",
       "  <thead>\n",
       "    <tr style=\"text-align: right;\">\n",
       "      <th></th>\n",
       "      <th>docId</th>\n",
       "      <th>annotId</th>\n",
       "      <th>annotSet</th>\n",
       "      <th>annotType</th>\n",
       "      <th>annotSpan</th>\n",
       "      <th>subSpanType</th>\n",
       "      <th>linkId</th>\n",
       "      <th>linkSpan</th>\n",
       "      <th>subSpan</th>\n",
       "      <th>unit</th>\n",
       "      <th>unitEncoded</th>\n",
       "      <th>misc</th>\n",
       "    </tr>\n",
       "    <tr>\n",
       "      <th>comboId</th>\n",
       "      <th></th>\n",
       "      <th></th>\n",
       "      <th></th>\n",
       "      <th></th>\n",
       "      <th></th>\n",
       "      <th></th>\n",
       "      <th></th>\n",
       "      <th></th>\n",
       "      <th></th>\n",
       "      <th></th>\n",
       "      <th></th>\n",
       "      <th></th>\n",
       "    </tr>\n",
       "  </thead>\n",
       "  <tbody>\n",
       "    <tr>\n",
       "      <th>S016412121300188X-5038_T1-1</th>\n",
       "      <td>S016412121300188X-5038</td>\n",
       "      <td>T1-1</td>\n",
       "      <td>1</td>\n",
       "      <td>Quantity</td>\n",
       "      <td>[224, 229]</td>\n",
       "      <td>NaN</td>\n",
       "      <td>NaN</td>\n",
       "      <td>NaN</td>\n",
       "      <td>NaN</td>\n",
       "      <td>NaN</td>\n",
       "      <td>NaN</td>\n",
       "      <td>{'mods': ['IsCount']}</td>\n",
       "    </tr>\n",
       "    <tr>\n",
       "      <th>S016412121300188X-5038_T2-1</th>\n",
       "      <td>S016412121300188X-5038</td>\n",
       "      <td>T2-1</td>\n",
       "      <td>1</td>\n",
       "      <td>MeasuredEntity</td>\n",
       "      <td>[230, 242]</td>\n",
       "      <td>HasQuantity</td>\n",
       "      <td>T1-1</td>\n",
       "      <td>[224, 229]</td>\n",
       "      <td>[224, 242]</td>\n",
       "      <td>NaN</td>\n",
       "      <td>NaN</td>\n",
       "      <td>NaN</td>\n",
       "    </tr>\n",
       "  </tbody>\n",
       "</table>\n",
       "</div>"
      ],
      "text/plain": [
       "                                              docId annotId  annotSet  \\\n",
       "comboId                                                                 \n",
       "S016412121300188X-5038_T1-1  S016412121300188X-5038    T1-1         1   \n",
       "S016412121300188X-5038_T2-1  S016412121300188X-5038    T2-1         1   \n",
       "\n",
       "                                  annotType   annotSpan  subSpanType linkId  \\\n",
       "comboId                                                                       \n",
       "S016412121300188X-5038_T1-1        Quantity  [224, 229]          NaN    NaN   \n",
       "S016412121300188X-5038_T2-1  MeasuredEntity  [230, 242]  HasQuantity   T1-1   \n",
       "\n",
       "                               linkSpan     subSpan unit unitEncoded  \\\n",
       "comboId                                                                \n",
       "S016412121300188X-5038_T1-1         NaN         NaN  NaN         NaN   \n",
       "S016412121300188X-5038_T2-1  [224, 229]  [224, 242]  NaN         NaN   \n",
       "\n",
       "                                              misc  \n",
       "comboId                                             \n",
       "S016412121300188X-5038_T1-1  {'mods': ['IsCount']}  \n",
       "S016412121300188X-5038_T2-1                    NaN  "
      ]
     },
     "execution_count": 29,
     "metadata": {},
     "output_type": "execute_result"
    }
   ],
   "source": [
    "combo_annot_processed.loc[combo_annot_processed['docId']==demo_doc]"
   ]
  },
  {
   "cell_type": "code",
   "execution_count": 30,
   "metadata": {},
   "outputs": [
    {
     "name": "stdout",
     "output_type": "stream",
     "text": [
      " three  case  studies \n"
     ]
    }
   ],
   "source": [
    "print(labeled_tokens)"
   ]
  },
  {
   "cell_type": "code",
   "execution_count": 31,
   "metadata": {},
   "outputs": [],
   "source": [
    "#### Stage 2 Stuff (not currently used)\n",
    "\n",
    "# special_token_map = dict(zip(tokenizer.all_special_tokens,tokenizer.all_special_ids))\n",
    "\n",
    "# demo_annots = combo_annot_processed.loc[combo_annot['docId']==demo_doc]\n",
    "\n",
    "# demo_txt = combo_txt[demo_doc]\n",
    "\n",
    "# encoded_demo_txt = tokenizer(demo_txt, padding='max_length', max_length=512, truncation=True)\n",
    "# demo_token_startchar = []\n",
    "# for idx, id in enumerate(encoded_demo_txt['input_ids']):\n",
    "#     try: tokenCharStart = encoded_demo_txt.token_to_chars(idx).start\n",
    "#     except: tokenCharStart = np.nan\n",
    "#     demo_token_startchar.append(tokenCharStart)\n",
    "\n",
    "# subSpan_ds = {}\n",
    "# for comboId, annot in demo_annots.iterrows():\n",
    "#     if isinstance(annot['subSpanType'],float): continue # nans are floats\n",
    "#     print(comboId)\n",
    "#     print(annot['annotType'])\n",
    "#     print(annot['subSpanType'])\n",
    "#     print(annot['subSpan'][0],annot['subSpan'][1])\n",
    "#     subSpanRange = list(range(annot['subSpan'][0],annot['subSpan'][1]))\n",
    "#     # print(subSpanRange)\n",
    "#     subSpanIds = []\n",
    "#     subSpanLabels = []\n",
    "#     for id, label, startChar in zip(demo_ids, demo_labels, demo_token_startchar):\n",
    "#         if startChar in subSpanRange:\n",
    "#             subSpanIds.append(id)\n",
    "#             subSpanLabels.append(label)\n",
    "#     print(subSpanIds)\n",
    "#     print(subSpanLabels)\n",
    "#     print(tokenizer.decode(subSpanIds,skip_special_tokens=True))\n",
    "#     print()\n",
    "\n"
   ]
  },
  {
   "cell_type": "code",
   "execution_count": 32,
   "metadata": {},
   "outputs": [],
   "source": [
    "def build_model(dropout_rate, normalizer_before_class):\n",
    "\n",
    "    class Stage1model(nn.Module):\n",
    "        def __init__(self, dropout=dropout_rate):\n",
    "            super(Stage1model, self).__init__()\n",
    "            self.mod = RobertaModel.from_pretrained(\n",
    "                        model_name,\n",
    "                        num_labels=num_classes+1,\n",
    "                        hidden_dropout_prob=dropout,\n",
    "                        output_hidden_states=True)\n",
    "            if normalizer_before_class: \n",
    "                self.norm = nn.BatchNorm1d(512, eps=self.mod.config.layer_norm_eps)\n",
    "            self.drop = nn.Dropout(self.mod.config.hidden_dropout_prob)\n",
    "            self.classifier = nn.Linear(self.mod.config.hidden_size, num_classes+1)\n",
    "\n",
    "        def forward(self, input_ids, attention_mask):\n",
    "            output = self.mod(input_ids=input_ids,attention_mask=attention_mask)\n",
    "            y_hat = output.hidden_states[-1]\n",
    "            if normalizer_before_class: y_hat = self.norm(y_hat)\n",
    "            y_hat = self.drop(y_hat)\n",
    "            y_hat = self.classifier(y_hat).permute(0,2,1)\n",
    "            return y_hat\n",
    "\n",
    "    model = Stage1model().to(device)\n",
    "\n",
    "    return model\n",
    "\n"
   ]
  },
  {
   "cell_type": "code",
   "execution_count": 33,
   "metadata": {},
   "outputs": [],
   "source": [
    "# criterion = torch.nn.CrossEntropyLoss(reduction='sum')\n",
    "# optimizer = AdamW(model.parameters(), lr=learning_rate)\n",
    "\n",
    "# n_training_steps = n_epochs * len(batched_train_ds)\n",
    "\n",
    "# if use_lr_scheduler:\n",
    "#     n_training_steps = n_epochs * len(batched_train_ds)\n",
    "#     lr_scheduler = get_scheduler(\n",
    "#         name=\"linear\", optimizer=optimizer, num_warmup_steps=0, num_training_steps=n_training_steps\n",
    "#     )\n",
    "\n",
    "\n",
    "def train_epoch(ds, criterion):\n",
    "\n",
    "    model.train()\n",
    "\n",
    "    ypred = []\n",
    "    ytrue = []\n",
    "    loss_log = []\n",
    "    for idx, batch in enumerate(ds):\n",
    "\n",
    "        labels = batch['labels']\n",
    "        input_ids = batch['input_ids']\n",
    "        attention_mask = batch['attention_mask']\n",
    "        \n",
    "        optimizer.zero_grad()\n",
    "\n",
    "        logits = model(input_ids, attention_mask)\n",
    "        \n",
    "        loss = criterion(logits, labels)\n",
    "        loss_log.append(loss.item())\n",
    "        \n",
    "        loss.backward()\n",
    "        optimizer.step()\n",
    "        if use_lr_scheduler: lr_scheduler.step()\n",
    "\n",
    "        progress_bar.update(1)\n",
    "            \n",
    "    return loss_log\n",
    "\n",
    "\n",
    "\n",
    "def eval_epoch(ds, criterion):\n",
    "\n",
    "    model.eval()\n",
    "\n",
    "    ypred = []\n",
    "    ytrue = []\n",
    "    loss_log = []\n",
    "    with torch.no_grad():\n",
    "        for idx, batch in enumerate(ds):\n",
    "\n",
    "            labels = batch['labels']\n",
    "            input_ids = batch['input_ids']\n",
    "            attention_mask = batch['attention_mask']\n",
    "\n",
    "            logits = model(input_ids, attention_mask)\n",
    "            \n",
    "            loss = criterion(logits, labels)\n",
    "            loss_log.append(loss.item())\n",
    "\n",
    "            for dlogits, dlabels in zip(logits.permute(0,2,1), labels):\n",
    "                    for tlogits, tlabels in zip(dlogits, dlabels):\n",
    "                        ypred.append(tlogits.argmax().item())\n",
    "                        ytrue.append(tlabels.item())\n",
    "\n",
    "            progress_bar.update(1)\n",
    "\n",
    "    acc = metrics.accuracy_score(ytrue,ypred)\n",
    "    report = classification_report(ytrue,ypred,\n",
    "                                    labels=list(task_map.values()),\n",
    "                                    target_names=list(task_map.keys()),\n",
    "                                    output_dict=True,\n",
    "                                    zero_division=0)\n",
    "\n",
    "                                    \n",
    "\n",
    "    return loss_log, acc, report, ytrue, ypred"
   ]
  },
  {
   "cell_type": "code",
   "execution_count": 34,
   "metadata": {},
   "outputs": [],
   "source": [
    "def train_dev_loop(n_epochs):\n",
    "\n",
    "    run_report = {  'epoch':[],\n",
    "                    'train_loss':[],\n",
    "                    'eval_train_loss':[],\n",
    "                    'eval_train_acc':[],\n",
    "                    'eval_train_ytrue':[],\n",
    "                    'eval_train_ypred':[],\n",
    "                    'eval_train_rpt':[],\n",
    "                    'eval_dev_loss':[],\n",
    "                    'eval_dev_acc':[],\n",
    "                    'eval_dev_ytrue':[],\n",
    "                    'eval_dev_ypred':[],\n",
    "                    'eval_dev_rpt':[],\n",
    "                }\n",
    "\n",
    "    # num_total_steps = n_epochs * (len(batched_train_ds) * 2 + len(batched_dev_ds))\n",
    "    # progress_bar = tqdm(range(num_total_steps))\n",
    "\n",
    "    for epoch in range(n_epochs):\n",
    "        run_report['epoch'].append(epoch)\n",
    "        \n",
    "        # print(f\"============ Begin Epoch {epoch+1} ============\")\n",
    "\n",
    "        loss = train_epoch(batched_train_ds, criterion)\n",
    "        # print(f\"Last train batch loss: {loss[-1]}\")\n",
    "        run_report['train_loss'].extend(loss)\n",
    "        \n",
    "        output = eval_epoch(batched_train_ds, criterion)\n",
    "        (loss, acc, report, ytrue, ypred) = output\n",
    "        # print(f'Eval on train set bast batch loss: {loss[-1]}   accuracy: {acc}')\n",
    "        run_report['eval_train_loss'].extend(loss)\n",
    "        run_report['eval_train_acc'].append(acc)\n",
    "        run_report['eval_train_ytrue'].append(ytrue)\n",
    "        run_report['eval_train_ypred'].append(ypred)\n",
    "        run_report['eval_train_rpt'].append(report)\n",
    "\n",
    "        output = eval_epoch(batched_dev_ds, criterion)\n",
    "        (loss, acc, report, ytrue, ypred) = output\n",
    "        # print(f'Eval on dev set last batch loss: {loss[-1]}   accuracy: {acc}')\n",
    "        run_report['eval_dev_loss'].extend(loss)\n",
    "        run_report['eval_dev_acc'].append(acc)\n",
    "        run_report['eval_dev_ytrue'].append(ytrue)\n",
    "        run_report['eval_dev_ypred'].append(ypred)\n",
    "        run_report['eval_dev_rpt'].append(report)\n",
    "\n",
    "        weightedf1 = report['weighted avg']['f1-score']\n",
    "\n",
    "        print(f'epoch {epoch+1}\\t\\tweighted dev eval f1 {weightedf1}')\n",
    "    \n",
    "    return run_report\n"
   ]
  },
  {
   "cell_type": "code",
   "execution_count": 35,
   "metadata": {},
   "outputs": [],
   "source": [
    "def tabulate_metrics(reports):\n",
    "    metrics = []\n",
    "    for epoch in reports:\n",
    "        # print(epoch)\n",
    "        epoch_metrics = {}\n",
    "        for task, rpt in task_map.items():\n",
    "            # print(task)\n",
    "            for metric, value in epoch[task].items():\n",
    "                epoch_metrics[str(task+'_'+metric)] = value\n",
    "        epoch_metrics['wt_f1'] = epoch['weighted avg']['f1-score']\n",
    "        metrics.append(epoch_metrics)\n",
    "\n",
    "    metrics = pd.DataFrame.from_dict(metrics)\n",
    "    metrics.index.rename('epoch')\n",
    "    return metrics"
   ]
  },
  {
   "cell_type": "code",
   "execution_count": 36,
   "metadata": {},
   "outputs": [
    {
     "data": {
      "image/png": "[encoded data removed]",
      "text/plain": [
       "<Figure size 576x432 with 1 Axes>"
      ]
     },
     "metadata": {
      "needs_background": "light"
     },
     "output_type": "display_data"
    },
    {
     "name": "stdout",
     "output_type": "stream",
     "text": [
      "5e-05 0.3\n",
      "0.0001 0.4\n",
      "4e-05 0.2\n",
      "7e-06 0.6\n",
      "0.0002 0.06\n",
      "5e-06 0.07\n",
      "3e-06 0.7\n",
      "3e-05 0.05\n",
      "0.0003 0.04\n",
      "2e-05 0.1\n",
      "7e-05 0.03\n",
      "0.0009 0.09\n",
      "0.0004 0.02\n",
      "1e-05 0.08\n",
      "8e-06 0.01\n",
      "6e-06 0.009\n",
      "6e-05 0.008\n",
      "0.003 0.007\n",
      "0.002 0.003\n",
      "0.001 0.002\n"
     ]
    }
   ],
   "source": [
    "n_hpsets = 20\n",
    "\n",
    "def signif(x, p):\n",
    "    x = np.asarray(x)\n",
    "    x_positive = np.where(np.isfinite(x) & (x != 0), np.abs(x), 10**(p-1))\n",
    "    mags = 10 ** (p - 1 - np.floor(np.log10(x_positive)))\n",
    "    return np.round(x * mags) / mags\n",
    "\n",
    "lr_list = set()\n",
    "while len(lr_list) < n_hpsets:\n",
    "    lr_list.add(signif((np.random.uniform(1,9))*(10**-(np.random.uniform(3,6))),1))\n",
    "lr_list = list(lr_list)\n",
    "\n",
    "dropout_list = set()\n",
    "while len(dropout_list) < n_hpsets:\n",
    "    dropout_list.add(signif((np.random.uniform(1,9))*(10**-(np.random.uniform(1,3))),1))\n",
    "dropout_list = list(dropout_list)\n",
    "\n",
    "fig,ax=plt.subplots(nrows=1,ncols=1,figsize=(8,6))\n",
    "ax.plot(lr_list, dropout_list, 'o')\n",
    "plt.xscale('log')\n",
    "plt.yscale('log')\n",
    "plt.ylabel('Dropout')\n",
    "plt.xlabel('Learning Rate')\n",
    "plt.show()\n",
    "\n",
    "for lr, do in zip(lr_list, dropout_list):\n",
    "    print(lr,do)"
   ]
  },
  {
   "cell_type": "code",
   "execution_count": 37,
   "metadata": {},
   "outputs": [
    {
     "name": "stdout",
     "output_type": "stream",
     "text": [
      "0.3\n"
     ]
    },
    {
     "name": "stderr",
     "output_type": "stream",
     "text": [
      "Some weights of the model checkpoint at roberta-base were not used when initializing RobertaModel: ['lm_head.bias', 'lm_head.layer_norm.weight', 'lm_head.dense.bias', 'lm_head.decoder.weight', 'lm_head.dense.weight', 'lm_head.layer_norm.bias']\n",
      "- This IS expected if you are initializing RobertaModel from the checkpoint of a model trained on another task or with another architecture (e.g. initializing a BertForSequenceClassification model from a BertForPreTraining model).\n",
      "- This IS NOT expected if you are initializing RobertaModel from the checkpoint of a model that you expect to be exactly identical (initializing a BertForSequenceClassification model from a BertForSequenceClassification model).\n"
     ]
    },
    {
     "data": {
      "application/vnd.jupyter.widget-view+json": {
       "model_id": "0433e047f2f0460488dd42d0f2259bb7",
       "version_major": 2,
       "version_minor": 0
      },
      "text/plain": [
       "  0%|          | 0/224 [00:00<?, ?it/s]"
      ]
     },
     "metadata": {},
     "output_type": "display_data"
    },
    {
     "name": "stdout",
     "output_type": "stream",
     "text": [
      "epoch 1\t\tweighted dev eval f1 0.0\n",
      "epoch 2\t\tweighted dev eval f1 0.0\n",
      "epoch 3\t\tweighted dev eval f1 0.0\n",
      "epoch 4\t\tweighted dev eval f1 0.12011439466158245\n",
      "epoch 5\t\tweighted dev eval f1 0.18293284244436406\n",
      "epoch 6\t\tweighted dev eval f1 0.20685404200842478\n",
      "epoch 7\t\tweighted dev eval f1 0.4478796692441696\n",
      "epoch 8\t\tweighted dev eval f1 0.4675196719911986\n",
      "0.4\n"
     ]
    },
    {
     "name": "stderr",
     "output_type": "stream",
     "text": [
      "Some weights of the model checkpoint at roberta-base were not used when initializing RobertaModel: ['lm_head.bias', 'lm_head.layer_norm.weight', 'lm_head.dense.bias', 'lm_head.decoder.weight', 'lm_head.dense.weight', 'lm_head.layer_norm.bias']\n",
      "- This IS expected if you are initializing RobertaModel from the checkpoint of a model trained on another task or with another architecture (e.g. initializing a BertForSequenceClassification model from a BertForPreTraining model).\n",
      "- This IS NOT expected if you are initializing RobertaModel from the checkpoint of a model that you expect to be exactly identical (initializing a BertForSequenceClassification model from a BertForSequenceClassification model).\n"
     ]
    },
    {
     "data": {
      "application/vnd.jupyter.widget-view+json": {
       "model_id": "ff45529c9a044423847cb784d067f551",
       "version_major": 2,
       "version_minor": 0
      },
      "text/plain": [
       "  0%|          | 0/224 [00:00<?, ?it/s]"
      ]
     },
     "metadata": {},
     "output_type": "display_data"
    },
    {
     "name": "stdout",
     "output_type": "stream",
     "text": [
      "epoch 1\t\tweighted dev eval f1 0.0\n",
      "epoch 2\t\tweighted dev eval f1 0.0\n",
      "epoch 3\t\tweighted dev eval f1 0.0\n",
      "epoch 4\t\tweighted dev eval f1 0.0\n",
      "epoch 5\t\tweighted dev eval f1 0.0\n",
      "epoch 6\t\tweighted dev eval f1 0.0\n",
      "epoch 7\t\tweighted dev eval f1 0.0801734430386776\n",
      "epoch 8\t\tweighted dev eval f1 0.1352410650734268\n",
      "0.2\n"
     ]
    },
    {
     "name": "stderr",
     "output_type": "stream",
     "text": [
      "Some weights of the model checkpoint at roberta-base were not used when initializing RobertaModel: ['lm_head.bias', 'lm_head.layer_norm.weight', 'lm_head.dense.bias', 'lm_head.decoder.weight', 'lm_head.dense.weight', 'lm_head.layer_norm.bias']\n",
      "- This IS expected if you are initializing RobertaModel from the checkpoint of a model trained on another task or with another architecture (e.g. initializing a BertForSequenceClassification model from a BertForPreTraining model).\n",
      "- This IS NOT expected if you are initializing RobertaModel from the checkpoint of a model that you expect to be exactly identical (initializing a BertForSequenceClassification model from a BertForSequenceClassification model).\n"
     ]
    },
    {
     "data": {
      "application/vnd.jupyter.widget-view+json": {
       "model_id": "c5fe23b9a3b5470fbc1fa8c8fe9263d2",
       "version_major": 2,
       "version_minor": 0
      },
      "text/plain": [
       "  0%|          | 0/224 [00:00<?, ?it/s]"
      ]
     },
     "metadata": {},
     "output_type": "display_data"
    },
    {
     "name": "stdout",
     "output_type": "stream",
     "text": [
      "epoch 1\t\tweighted dev eval f1 0.0\n",
      "epoch 2\t\tweighted dev eval f1 0.0\n",
      "epoch 3\t\tweighted dev eval f1 0.24451518812842998\n",
      "epoch 4\t\tweighted dev eval f1 0.42569227460431713\n",
      "epoch 5\t\tweighted dev eval f1 0.4926191919713897\n",
      "epoch 6\t\tweighted dev eval f1 0.510865144593926\n",
      "epoch 7\t\tweighted dev eval f1 0.5233975047219686\n",
      "epoch 8\t\tweighted dev eval f1 0.5344473428846824\n",
      "0.6\n"
     ]
    },
    {
     "name": "stderr",
     "output_type": "stream",
     "text": [
      "Some weights of the model checkpoint at roberta-base were not used when initializing RobertaModel: ['lm_head.bias', 'lm_head.layer_norm.weight', 'lm_head.dense.bias', 'lm_head.decoder.weight', 'lm_head.dense.weight', 'lm_head.layer_norm.bias']\n",
      "- This IS expected if you are initializing RobertaModel from the checkpoint of a model trained on another task or with another architecture (e.g. initializing a BertForSequenceClassification model from a BertForPreTraining model).\n",
      "- This IS NOT expected if you are initializing RobertaModel from the checkpoint of a model that you expect to be exactly identical (initializing a BertForSequenceClassification model from a BertForSequenceClassification model).\n"
     ]
    },
    {
     "data": {
      "application/vnd.jupyter.widget-view+json": {
       "model_id": "f09e25b0255c4ff2b2776b6c1db3c863",
       "version_major": 2,
       "version_minor": 0
      },
      "text/plain": [
       "  0%|          | 0/224 [00:00<?, ?it/s]"
      ]
     },
     "metadata": {},
     "output_type": "display_data"
    },
    {
     "name": "stdout",
     "output_type": "stream",
     "text": [
      "epoch 1\t\tweighted dev eval f1 0.029080343132636462\n",
      "epoch 2\t\tweighted dev eval f1 0.0018862949516256621\n",
      "epoch 3\t\tweighted dev eval f1 0.0\n",
      "epoch 4\t\tweighted dev eval f1 0.0\n",
      "epoch 5\t\tweighted dev eval f1 0.0\n",
      "epoch 6\t\tweighted dev eval f1 0.0\n",
      "epoch 7\t\tweighted dev eval f1 0.0\n",
      "epoch 8\t\tweighted dev eval f1 0.0\n",
      "0.06\n"
     ]
    },
    {
     "name": "stderr",
     "output_type": "stream",
     "text": [
      "Some weights of the model checkpoint at roberta-base were not used when initializing RobertaModel: ['lm_head.bias', 'lm_head.layer_norm.weight', 'lm_head.dense.bias', 'lm_head.decoder.weight', 'lm_head.dense.weight', 'lm_head.layer_norm.bias']\n",
      "- This IS expected if you are initializing RobertaModel from the checkpoint of a model trained on another task or with another architecture (e.g. initializing a BertForSequenceClassification model from a BertForPreTraining model).\n",
      "- This IS NOT expected if you are initializing RobertaModel from the checkpoint of a model that you expect to be exactly identical (initializing a BertForSequenceClassification model from a BertForSequenceClassification model).\n"
     ]
    },
    {
     "data": {
      "application/vnd.jupyter.widget-view+json": {
       "model_id": "352f44150a6a4d079d741c43691771d7",
       "version_major": 2,
       "version_minor": 0
      },
      "text/plain": [
       "  0%|          | 0/224 [00:00<?, ?it/s]"
      ]
     },
     "metadata": {},
     "output_type": "display_data"
    },
    {
     "name": "stdout",
     "output_type": "stream",
     "text": [
      "epoch 1\t\tweighted dev eval f1 0.0\n",
      "epoch 2\t\tweighted dev eval f1 0.0\n",
      "epoch 3\t\tweighted dev eval f1 0.18256589886270425\n",
      "epoch 4\t\tweighted dev eval f1 0.283065065304858\n",
      "epoch 5\t\tweighted dev eval f1 0.3730345864568473\n",
      "epoch 6\t\tweighted dev eval f1 0.4750561898697752\n",
      "epoch 7\t\tweighted dev eval f1 0.45993757606668617\n",
      "epoch 8\t\tweighted dev eval f1 0.48087641250365687\n",
      "0.07\n"
     ]
    },
    {
     "name": "stderr",
     "output_type": "stream",
     "text": [
      "Some weights of the model checkpoint at roberta-base were not used when initializing RobertaModel: ['lm_head.bias', 'lm_head.layer_norm.weight', 'lm_head.dense.bias', 'lm_head.decoder.weight', 'lm_head.dense.weight', 'lm_head.layer_norm.bias']\n",
      "- This IS expected if you are initializing RobertaModel from the checkpoint of a model trained on another task or with another architecture (e.g. initializing a BertForSequenceClassification model from a BertForPreTraining model).\n",
      "- This IS NOT expected if you are initializing RobertaModel from the checkpoint of a model that you expect to be exactly identical (initializing a BertForSequenceClassification model from a BertForSequenceClassification model).\n"
     ]
    },
    {
     "data": {
      "application/vnd.jupyter.widget-view+json": {
       "model_id": "e65bfaef71824546acef8f10e9b11fb0",
       "version_major": 2,
       "version_minor": 0
      },
      "text/plain": [
       "  0%|          | 0/224 [00:00<?, ?it/s]"
      ]
     },
     "metadata": {},
     "output_type": "display_data"
    },
    {
     "name": "stdout",
     "output_type": "stream",
     "text": [
      "epoch 1\t\tweighted dev eval f1 0.04441193704812009\n",
      "epoch 2\t\tweighted dev eval f1 0.0\n",
      "epoch 3\t\tweighted dev eval f1 0.0\n",
      "epoch 4\t\tweighted dev eval f1 0.0\n",
      "epoch 5\t\tweighted dev eval f1 0.0\n",
      "epoch 6\t\tweighted dev eval f1 0.0\n",
      "epoch 7\t\tweighted dev eval f1 0.0\n",
      "epoch 8\t\tweighted dev eval f1 0.0056657733330935135\n",
      "0.7\n"
     ]
    },
    {
     "name": "stderr",
     "output_type": "stream",
     "text": [
      "Some weights of the model checkpoint at roberta-base were not used when initializing RobertaModel: ['lm_head.bias', 'lm_head.layer_norm.weight', 'lm_head.dense.bias', 'lm_head.decoder.weight', 'lm_head.dense.weight', 'lm_head.layer_norm.bias']\n",
      "- This IS expected if you are initializing RobertaModel from the checkpoint of a model trained on another task or with another architecture (e.g. initializing a BertForSequenceClassification model from a BertForPreTraining model).\n",
      "- This IS NOT expected if you are initializing RobertaModel from the checkpoint of a model that you expect to be exactly identical (initializing a BertForSequenceClassification model from a BertForSequenceClassification model).\n"
     ]
    },
    {
     "data": {
      "application/vnd.jupyter.widget-view+json": {
       "model_id": "e6f89afd4da9447191c23f324b4bed8e",
       "version_major": 2,
       "version_minor": 0
      },
      "text/plain": [
       "  0%|          | 0/224 [00:00<?, ?it/s]"
      ]
     },
     "metadata": {},
     "output_type": "display_data"
    },
    {
     "name": "stdout",
     "output_type": "stream",
     "text": [
      "epoch 1\t\tweighted dev eval f1 0.027268011119386384\n",
      "epoch 2\t\tweighted dev eval f1 0.030161533804686398\n",
      "epoch 3\t\tweighted dev eval f1 0.026124367156874582\n",
      "epoch 4\t\tweighted dev eval f1 0.03238706951117204\n",
      "epoch 5\t\tweighted dev eval f1 0.00887929396612734\n",
      "epoch 6\t\tweighted dev eval f1 0.0016168242442505672\n",
      "epoch 7\t\tweighted dev eval f1 0.0\n",
      "epoch 8\t\tweighted dev eval f1 0.0\n",
      "0.05\n"
     ]
    },
    {
     "name": "stderr",
     "output_type": "stream",
     "text": [
      "Some weights of the model checkpoint at roberta-base were not used when initializing RobertaModel: ['lm_head.bias', 'lm_head.layer_norm.weight', 'lm_head.dense.bias', 'lm_head.decoder.weight', 'lm_head.dense.weight', 'lm_head.layer_norm.bias']\n",
      "- This IS expected if you are initializing RobertaModel from the checkpoint of a model trained on another task or with another architecture (e.g. initializing a BertForSequenceClassification model from a BertForPreTraining model).\n",
      "- This IS NOT expected if you are initializing RobertaModel from the checkpoint of a model that you expect to be exactly identical (initializing a BertForSequenceClassification model from a BertForSequenceClassification model).\n"
     ]
    },
    {
     "data": {
      "application/vnd.jupyter.widget-view+json": {
       "model_id": "41c749e3103747659a6805820abcbbc5",
       "version_major": 2,
       "version_minor": 0
      },
      "text/plain": [
       "  0%|          | 0/224 [00:00<?, ?it/s]"
      ]
     },
     "metadata": {},
     "output_type": "display_data"
    },
    {
     "name": "stdout",
     "output_type": "stream",
     "text": [
      "epoch 1\t\tweighted dev eval f1 0.0\n",
      "epoch 2\t\tweighted dev eval f1 0.0\n",
      "epoch 3\t\tweighted dev eval f1 0.0\n",
      "epoch 4\t\tweighted dev eval f1 0.19467359239770912\n",
      "epoch 5\t\tweighted dev eval f1 0.3678024338763689\n",
      "epoch 6\t\tweighted dev eval f1 0.37110174720550376\n",
      "epoch 7\t\tweighted dev eval f1 0.4931148157767831\n",
      "epoch 8\t\tweighted dev eval f1 0.48396630889618286\n",
      "0.04\n"
     ]
    },
    {
     "name": "stderr",
     "output_type": "stream",
     "text": [
      "Some weights of the model checkpoint at roberta-base were not used when initializing RobertaModel: ['lm_head.bias', 'lm_head.layer_norm.weight', 'lm_head.dense.bias', 'lm_head.decoder.weight', 'lm_head.dense.weight', 'lm_head.layer_norm.bias']\n",
      "- This IS expected if you are initializing RobertaModel from the checkpoint of a model trained on another task or with another architecture (e.g. initializing a BertForSequenceClassification model from a BertForPreTraining model).\n",
      "- This IS NOT expected if you are initializing RobertaModel from the checkpoint of a model that you expect to be exactly identical (initializing a BertForSequenceClassification model from a BertForSequenceClassification model).\n"
     ]
    },
    {
     "data": {
      "application/vnd.jupyter.widget-view+json": {
       "model_id": "e516bd30392849b7900115856e55bb5c",
       "version_major": 2,
       "version_minor": 0
      },
      "text/plain": [
       "  0%|          | 0/224 [00:00<?, ?it/s]"
      ]
     },
     "metadata": {},
     "output_type": "display_data"
    },
    {
     "name": "stdout",
     "output_type": "stream",
     "text": [
      "epoch 1\t\tweighted dev eval f1 0.0\n",
      "epoch 2\t\tweighted dev eval f1 0.0\n",
      "epoch 3\t\tweighted dev eval f1 0.0\n",
      "epoch 4\t\tweighted dev eval f1 0.0\n",
      "epoch 5\t\tweighted dev eval f1 0.0\n",
      "epoch 6\t\tweighted dev eval f1 0.0\n",
      "epoch 7\t\tweighted dev eval f1 0.0\n",
      "epoch 8\t\tweighted dev eval f1 0.0\n",
      "0.1\n"
     ]
    },
    {
     "name": "stderr",
     "output_type": "stream",
     "text": [
      "Some weights of the model checkpoint at roberta-base were not used when initializing RobertaModel: ['lm_head.bias', 'lm_head.layer_norm.weight', 'lm_head.dense.bias', 'lm_head.decoder.weight', 'lm_head.dense.weight', 'lm_head.layer_norm.bias']\n",
      "- This IS expected if you are initializing RobertaModel from the checkpoint of a model trained on another task or with another architecture (e.g. initializing a BertForSequenceClassification model from a BertForPreTraining model).\n",
      "- This IS NOT expected if you are initializing RobertaModel from the checkpoint of a model that you expect to be exactly identical (initializing a BertForSequenceClassification model from a BertForSequenceClassification model).\n"
     ]
    },
    {
     "data": {
      "application/vnd.jupyter.widget-view+json": {
       "model_id": "891b66a614384252a91e958660ce3e98",
       "version_major": 2,
       "version_minor": 0
      },
      "text/plain": [
       "  0%|          | 0/224 [00:00<?, ?it/s]"
      ]
     },
     "metadata": {},
     "output_type": "display_data"
    },
    {
     "name": "stdout",
     "output_type": "stream",
     "text": [
      "epoch 1\t\tweighted dev eval f1 0.0\n",
      "epoch 2\t\tweighted dev eval f1 0.0\n",
      "epoch 3\t\tweighted dev eval f1 0.0\n",
      "epoch 4\t\tweighted dev eval f1 0.0597159632550481\n",
      "epoch 5\t\tweighted dev eval f1 0.20238615958123993\n",
      "epoch 6\t\tweighted dev eval f1 0.31562942043224945\n",
      "epoch 7\t\tweighted dev eval f1 0.443555518691179\n",
      "epoch 8\t\tweighted dev eval f1 0.49307861253511\n",
      "0.03\n"
     ]
    },
    {
     "name": "stderr",
     "output_type": "stream",
     "text": [
      "Some weights of the model checkpoint at roberta-base were not used when initializing RobertaModel: ['lm_head.bias', 'lm_head.layer_norm.weight', 'lm_head.dense.bias', 'lm_head.decoder.weight', 'lm_head.dense.weight', 'lm_head.layer_norm.bias']\n",
      "- This IS expected if you are initializing RobertaModel from the checkpoint of a model trained on another task or with another architecture (e.g. initializing a BertForSequenceClassification model from a BertForPreTraining model).\n",
      "- This IS NOT expected if you are initializing RobertaModel from the checkpoint of a model that you expect to be exactly identical (initializing a BertForSequenceClassification model from a BertForSequenceClassification model).\n"
     ]
    },
    {
     "data": {
      "application/vnd.jupyter.widget-view+json": {
       "model_id": "b6c61bedfeef4a10ab81e4331371d1a3",
       "version_major": 2,
       "version_minor": 0
      },
      "text/plain": [
       "  0%|          | 0/224 [00:00<?, ?it/s]"
      ]
     },
     "metadata": {},
     "output_type": "display_data"
    },
    {
     "name": "stdout",
     "output_type": "stream",
     "text": [
      "epoch 1\t\tweighted dev eval f1 0.0\n",
      "epoch 2\t\tweighted dev eval f1 0.19212563392836715\n",
      "epoch 3\t\tweighted dev eval f1 0.4727785316243269\n",
      "epoch 4\t\tweighted dev eval f1 0.5155838995746972\n",
      "epoch 5\t\tweighted dev eval f1 0.48671214113493405\n",
      "epoch 6\t\tweighted dev eval f1 0.5336209166510737\n",
      "epoch 7\t\tweighted dev eval f1 0.4809187784308826\n",
      "epoch 8\t\tweighted dev eval f1 0.5715264201629212\n",
      "0.09\n"
     ]
    },
    {
     "name": "stderr",
     "output_type": "stream",
     "text": [
      "Some weights of the model checkpoint at roberta-base were not used when initializing RobertaModel: ['lm_head.bias', 'lm_head.layer_norm.weight', 'lm_head.dense.bias', 'lm_head.decoder.weight', 'lm_head.dense.weight', 'lm_head.layer_norm.bias']\n",
      "- This IS expected if you are initializing RobertaModel from the checkpoint of a model trained on another task or with another architecture (e.g. initializing a BertForSequenceClassification model from a BertForPreTraining model).\n",
      "- This IS NOT expected if you are initializing RobertaModel from the checkpoint of a model that you expect to be exactly identical (initializing a BertForSequenceClassification model from a BertForSequenceClassification model).\n"
     ]
    },
    {
     "data": {
      "application/vnd.jupyter.widget-view+json": {
       "model_id": "9d3a50c1c5914b3193eccbc23c5c86e4",
       "version_major": 2,
       "version_minor": 0
      },
      "text/plain": [
       "  0%|          | 0/224 [00:00<?, ?it/s]"
      ]
     },
     "metadata": {},
     "output_type": "display_data"
    },
    {
     "name": "stdout",
     "output_type": "stream",
     "text": [
      "epoch 1\t\tweighted dev eval f1 0.0\n",
      "epoch 2\t\tweighted dev eval f1 0.0\n",
      "epoch 3\t\tweighted dev eval f1 0.0\n",
      "epoch 4\t\tweighted dev eval f1 0.0\n",
      "epoch 5\t\tweighted dev eval f1 0.0\n",
      "epoch 6\t\tweighted dev eval f1 0.0\n",
      "epoch 7\t\tweighted dev eval f1 0.0\n",
      "epoch 8\t\tweighted dev eval f1 0.0\n",
      "0.02\n"
     ]
    },
    {
     "name": "stderr",
     "output_type": "stream",
     "text": [
      "Some weights of the model checkpoint at roberta-base were not used when initializing RobertaModel: ['lm_head.bias', 'lm_head.layer_norm.weight', 'lm_head.dense.bias', 'lm_head.decoder.weight', 'lm_head.dense.weight', 'lm_head.layer_norm.bias']\n",
      "- This IS expected if you are initializing RobertaModel from the checkpoint of a model trained on another task or with another architecture (e.g. initializing a BertForSequenceClassification model from a BertForPreTraining model).\n",
      "- This IS NOT expected if you are initializing RobertaModel from the checkpoint of a model that you expect to be exactly identical (initializing a BertForSequenceClassification model from a BertForSequenceClassification model).\n"
     ]
    },
    {
     "data": {
      "application/vnd.jupyter.widget-view+json": {
       "model_id": "75feb2a9bcce4376b7c37c0c1a049311",
       "version_major": 2,
       "version_minor": 0
      },
      "text/plain": [
       "  0%|          | 0/224 [00:00<?, ?it/s]"
      ]
     },
     "metadata": {},
     "output_type": "display_data"
    },
    {
     "name": "stdout",
     "output_type": "stream",
     "text": [
      "epoch 1\t\tweighted dev eval f1 0.0\n",
      "epoch 2\t\tweighted dev eval f1 0.0\n",
      "epoch 3\t\tweighted dev eval f1 0.0\n",
      "epoch 4\t\tweighted dev eval f1 0.0\n",
      "epoch 5\t\tweighted dev eval f1 0.0\n",
      "epoch 6\t\tweighted dev eval f1 0.0\n",
      "epoch 7\t\tweighted dev eval f1 0.0\n",
      "epoch 8\t\tweighted dev eval f1 0.0\n",
      "0.08\n"
     ]
    },
    {
     "name": "stderr",
     "output_type": "stream",
     "text": [
      "Some weights of the model checkpoint at roberta-base were not used when initializing RobertaModel: ['lm_head.bias', 'lm_head.layer_norm.weight', 'lm_head.dense.bias', 'lm_head.decoder.weight', 'lm_head.dense.weight', 'lm_head.layer_norm.bias']\n",
      "- This IS expected if you are initializing RobertaModel from the checkpoint of a model trained on another task or with another architecture (e.g. initializing a BertForSequenceClassification model from a BertForPreTraining model).\n",
      "- This IS NOT expected if you are initializing RobertaModel from the checkpoint of a model that you expect to be exactly identical (initializing a BertForSequenceClassification model from a BertForSequenceClassification model).\n"
     ]
    },
    {
     "data": {
      "application/vnd.jupyter.widget-view+json": {
       "model_id": "aa35888da33c437e9f6472b851924b6a",
       "version_major": 2,
       "version_minor": 0
      },
      "text/plain": [
       "  0%|          | 0/224 [00:00<?, ?it/s]"
      ]
     },
     "metadata": {},
     "output_type": "display_data"
    },
    {
     "name": "stdout",
     "output_type": "stream",
     "text": [
      "epoch 1\t\tweighted dev eval f1 0.0\n",
      "epoch 2\t\tweighted dev eval f1 0.0\n",
      "epoch 3\t\tweighted dev eval f1 0.0\n",
      "epoch 4\t\tweighted dev eval f1 0.0\n",
      "epoch 5\t\tweighted dev eval f1 0.0019005442193288364\n",
      "epoch 6\t\tweighted dev eval f1 0.0288563110298096\n",
      "epoch 7\t\tweighted dev eval f1 0.17784137904446815\n",
      "epoch 8\t\tweighted dev eval f1 0.233199546318684\n",
      "0.01\n"
     ]
    },
    {
     "name": "stderr",
     "output_type": "stream",
     "text": [
      "Some weights of the model checkpoint at roberta-base were not used when initializing RobertaModel: ['lm_head.bias', 'lm_head.layer_norm.weight', 'lm_head.dense.bias', 'lm_head.decoder.weight', 'lm_head.dense.weight', 'lm_head.layer_norm.bias']\n",
      "- This IS expected if you are initializing RobertaModel from the checkpoint of a model trained on another task or with another architecture (e.g. initializing a BertForSequenceClassification model from a BertForPreTraining model).\n",
      "- This IS NOT expected if you are initializing RobertaModel from the checkpoint of a model that you expect to be exactly identical (initializing a BertForSequenceClassification model from a BertForSequenceClassification model).\n"
     ]
    },
    {
     "data": {
      "application/vnd.jupyter.widget-view+json": {
       "model_id": "d355d07b2ff141a1b85aced3fac860a2",
       "version_major": 2,
       "version_minor": 0
      },
      "text/plain": [
       "  0%|          | 0/224 [00:00<?, ?it/s]"
      ]
     },
     "metadata": {},
     "output_type": "display_data"
    },
    {
     "name": "stdout",
     "output_type": "stream",
     "text": [
      "epoch 1\t\tweighted dev eval f1 0.0017030665909748184\n",
      "epoch 2\t\tweighted dev eval f1 0.0\n",
      "epoch 3\t\tweighted dev eval f1 0.0\n",
      "epoch 4\t\tweighted dev eval f1 0.0\n",
      "epoch 5\t\tweighted dev eval f1 0.0\n",
      "epoch 6\t\tweighted dev eval f1 0.0\n",
      "epoch 7\t\tweighted dev eval f1 0.0\n",
      "epoch 8\t\tweighted dev eval f1 0.029030669404612075\n",
      "0.009\n"
     ]
    },
    {
     "name": "stderr",
     "output_type": "stream",
     "text": [
      "Some weights of the model checkpoint at roberta-base were not used when initializing RobertaModel: ['lm_head.bias', 'lm_head.layer_norm.weight', 'lm_head.dense.bias', 'lm_head.decoder.weight', 'lm_head.dense.weight', 'lm_head.layer_norm.bias']\n",
      "- This IS expected if you are initializing RobertaModel from the checkpoint of a model trained on another task or with another architecture (e.g. initializing a BertForSequenceClassification model from a BertForPreTraining model).\n",
      "- This IS NOT expected if you are initializing RobertaModel from the checkpoint of a model that you expect to be exactly identical (initializing a BertForSequenceClassification model from a BertForSequenceClassification model).\n"
     ]
    },
    {
     "data": {
      "application/vnd.jupyter.widget-view+json": {
       "model_id": "72442a044a7e48c596e85fe77f9681a5",
       "version_major": 2,
       "version_minor": 0
      },
      "text/plain": [
       "  0%|          | 0/224 [00:00<?, ?it/s]"
      ]
     },
     "metadata": {},
     "output_type": "display_data"
    },
    {
     "name": "stdout",
     "output_type": "stream",
     "text": [
      "epoch 1\t\tweighted dev eval f1 0.04054462706315752\n",
      "epoch 2\t\tweighted dev eval f1 0.0\n",
      "epoch 3\t\tweighted dev eval f1 0.0\n",
      "epoch 4\t\tweighted dev eval f1 0.0\n",
      "epoch 5\t\tweighted dev eval f1 0.0\n",
      "epoch 6\t\tweighted dev eval f1 0.0\n",
      "epoch 7\t\tweighted dev eval f1 0.0\n",
      "epoch 8\t\tweighted dev eval f1 0.0\n",
      "0.008\n"
     ]
    },
    {
     "name": "stderr",
     "output_type": "stream",
     "text": [
      "Some weights of the model checkpoint at roberta-base were not used when initializing RobertaModel: ['lm_head.bias', 'lm_head.layer_norm.weight', 'lm_head.dense.bias', 'lm_head.decoder.weight', 'lm_head.dense.weight', 'lm_head.layer_norm.bias']\n",
      "- This IS expected if you are initializing RobertaModel from the checkpoint of a model trained on another task or with another architecture (e.g. initializing a BertForSequenceClassification model from a BertForPreTraining model).\n",
      "- This IS NOT expected if you are initializing RobertaModel from the checkpoint of a model that you expect to be exactly identical (initializing a BertForSequenceClassification model from a BertForSequenceClassification model).\n"
     ]
    },
    {
     "data": {
      "application/vnd.jupyter.widget-view+json": {
       "model_id": "99297b002c9244e99ae0f61d4d61a254",
       "version_major": 2,
       "version_minor": 0
      },
      "text/plain": [
       "  0%|          | 0/224 [00:00<?, ?it/s]"
      ]
     },
     "metadata": {},
     "output_type": "display_data"
    },
    {
     "name": "stdout",
     "output_type": "stream",
     "text": [
      "epoch 1\t\tweighted dev eval f1 0.0\n",
      "epoch 2\t\tweighted dev eval f1 0.20019065776930411\n",
      "epoch 3\t\tweighted dev eval f1 0.37750063363843556\n",
      "epoch 4\t\tweighted dev eval f1 0.5284139828114913\n",
      "epoch 5\t\tweighted dev eval f1 0.5131663714336508\n",
      "epoch 6\t\tweighted dev eval f1 0.4870288973203912\n",
      "epoch 7\t\tweighted dev eval f1 0.5198915979657509\n",
      "epoch 8\t\tweighted dev eval f1 0.4865238152961048\n",
      "0.007\n"
     ]
    },
    {
     "name": "stderr",
     "output_type": "stream",
     "text": [
      "Some weights of the model checkpoint at roberta-base were not used when initializing RobertaModel: ['lm_head.bias', 'lm_head.layer_norm.weight', 'lm_head.dense.bias', 'lm_head.decoder.weight', 'lm_head.dense.weight', 'lm_head.layer_norm.bias']\n",
      "- This IS expected if you are initializing RobertaModel from the checkpoint of a model trained on another task or with another architecture (e.g. initializing a BertForSequenceClassification model from a BertForPreTraining model).\n",
      "- This IS NOT expected if you are initializing RobertaModel from the checkpoint of a model that you expect to be exactly identical (initializing a BertForSequenceClassification model from a BertForSequenceClassification model).\n"
     ]
    },
    {
     "data": {
      "application/vnd.jupyter.widget-view+json": {
       "model_id": "88b953bd57e14d99b3e0678bd0b7ce96",
       "version_major": 2,
       "version_minor": 0
      },
      "text/plain": [
       "  0%|          | 0/224 [00:00<?, ?it/s]"
      ]
     },
     "metadata": {},
     "output_type": "display_data"
    },
    {
     "name": "stdout",
     "output_type": "stream",
     "text": [
      "epoch 1\t\tweighted dev eval f1 0.0\n",
      "epoch 2\t\tweighted dev eval f1 0.0\n",
      "epoch 3\t\tweighted dev eval f1 0.0\n",
      "epoch 4\t\tweighted dev eval f1 0.0\n",
      "epoch 5\t\tweighted dev eval f1 0.0\n",
      "epoch 6\t\tweighted dev eval f1 0.0\n",
      "epoch 7\t\tweighted dev eval f1 0.0\n",
      "epoch 8\t\tweighted dev eval f1 0.0\n",
      "0.003\n"
     ]
    },
    {
     "name": "stderr",
     "output_type": "stream",
     "text": [
      "Some weights of the model checkpoint at roberta-base were not used when initializing RobertaModel: ['lm_head.bias', 'lm_head.layer_norm.weight', 'lm_head.dense.bias', 'lm_head.decoder.weight', 'lm_head.dense.weight', 'lm_head.layer_norm.bias']\n",
      "- This IS expected if you are initializing RobertaModel from the checkpoint of a model trained on another task or with another architecture (e.g. initializing a BertForSequenceClassification model from a BertForPreTraining model).\n",
      "- This IS NOT expected if you are initializing RobertaModel from the checkpoint of a model that you expect to be exactly identical (initializing a BertForSequenceClassification model from a BertForSequenceClassification model).\n"
     ]
    },
    {
     "data": {
      "application/vnd.jupyter.widget-view+json": {
       "model_id": "fc5bd5877a2642079577dce3f5b87f16",
       "version_major": 2,
       "version_minor": 0
      },
      "text/plain": [
       "  0%|          | 0/224 [00:00<?, ?it/s]"
      ]
     },
     "metadata": {},
     "output_type": "display_data"
    },
    {
     "name": "stdout",
     "output_type": "stream",
     "text": [
      "epoch 1\t\tweighted dev eval f1 0.0\n",
      "epoch 2\t\tweighted dev eval f1 0.0\n",
      "epoch 3\t\tweighted dev eval f1 0.0\n",
      "epoch 4\t\tweighted dev eval f1 0.0\n",
      "epoch 5\t\tweighted dev eval f1 0.0\n",
      "epoch 6\t\tweighted dev eval f1 0.0\n",
      "epoch 7\t\tweighted dev eval f1 0.0\n",
      "epoch 8\t\tweighted dev eval f1 0.0\n",
      "0.002\n"
     ]
    },
    {
     "name": "stderr",
     "output_type": "stream",
     "text": [
      "Some weights of the model checkpoint at roberta-base were not used when initializing RobertaModel: ['lm_head.bias', 'lm_head.layer_norm.weight', 'lm_head.dense.bias', 'lm_head.decoder.weight', 'lm_head.dense.weight', 'lm_head.layer_norm.bias']\n",
      "- This IS expected if you are initializing RobertaModel from the checkpoint of a model trained on another task or with another architecture (e.g. initializing a BertForSequenceClassification model from a BertForPreTraining model).\n",
      "- This IS NOT expected if you are initializing RobertaModel from the checkpoint of a model that you expect to be exactly identical (initializing a BertForSequenceClassification model from a BertForSequenceClassification model).\n"
     ]
    },
    {
     "data": {
      "application/vnd.jupyter.widget-view+json": {
       "model_id": "3091a43bf2fb4a2e81d201f8567605f1",
       "version_major": 2,
       "version_minor": 0
      },
      "text/plain": [
       "  0%|          | 0/224 [00:00<?, ?it/s]"
      ]
     },
     "metadata": {},
     "output_type": "display_data"
    },
    {
     "name": "stdout",
     "output_type": "stream",
     "text": [
      "epoch 1\t\tweighted dev eval f1 0.0\n",
      "epoch 2\t\tweighted dev eval f1 0.0\n",
      "epoch 3\t\tweighted dev eval f1 0.0\n",
      "epoch 4\t\tweighted dev eval f1 0.0\n",
      "epoch 5\t\tweighted dev eval f1 0.0\n",
      "epoch 6\t\tweighted dev eval f1 0.0\n",
      "epoch 7\t\tweighted dev eval f1 0.0\n",
      "epoch 8\t\tweighted dev eval f1 0.0\n"
     ]
    }
   ],
   "source": [
    "hp_search_results = []\n",
    "\n",
    "for learning_rate, dropout_rate in zip(lr_list, dropout_list):\n",
    "\n",
    "    model_result = {}\n",
    "\n",
    "    model_result['batch_size'] = batch_size\n",
    "    model_result['train_size'] = stage1_n_train\n",
    "    model_result['dev_size'] = stage1_n_dev\n",
    "\n",
    "    ########## HPs\n",
    "\n",
    "    # learning_rate = lr # sets AdamW optimizaiton learning rate\n",
    "                        # scales scales with each training loop if scheduler is on\n",
    "    model_result['learning_rate'] = learning_rate\n",
    "\n",
    "    # dropout_rate = drop # sets same dropout for roberta and for classification layer\n",
    "    model_result['dropout_rate'] = dropout_rate\n",
    "    print(dropout_rate)\n",
    "\n",
    "    normalizer_before_class = False # toggle the normalizer before the classification layer\n",
    "    model_result['normalizer_before_class'] = normalizer_before_class\n",
    "\n",
    "    use_lr_scheduler = False # toggle the linear learning rate scheduler\n",
    "    model_result['use_lr_scheduler'] = use_lr_scheduler\n",
    "\n",
    "    n_epochs = 8\n",
    "\n",
    "    ########### For saving (not used)\n",
    "\n",
    "    run_name = model_name.split('/')[-1] +'_bs-'+str(batch_size)+\\\n",
    "                                            '_lr-'+str(learning_rate)+\\\n",
    "                                            '_drop-'+str(dropout_rate)+\\\n",
    "                                            '_norm-'+str(normalizer_before_class)[0]+\\\n",
    "                                            '_sched-'+str(use_lr_scheduler)[0]\n",
    "    runoutpath = os.path.join(outputpath,run_name+'/')\n",
    "\n",
    "\n",
    "    ########### build/train/eval outer loop\n",
    "\n",
    "    model = build_model(dropout_rate, normalizer_before_class)\n",
    "\n",
    "    criterion = torch.nn.CrossEntropyLoss(reduction='sum')\n",
    "    optimizer = AdamW(model.parameters(), lr=learning_rate)\n",
    "\n",
    "    num_total_steps = n_epochs * (len(batched_train_ds) * 2 + len(batched_dev_ds))\n",
    "    progress_bar = tqdm(range(num_total_steps))\n",
    "\n",
    "    n_training_steps = n_epochs * len(batched_train_ds)\n",
    "    if use_lr_scheduler:\n",
    "        n_training_steps = n_epochs * len(batched_train_ds)\n",
    "        lr_scheduler = get_scheduler(\n",
    "            name=\"linear\", optimizer=optimizer, num_warmup_steps=0, num_training_steps=n_training_steps\n",
    "        )\n",
    "\n",
    "    run_report = train_dev_loop(n_epochs)\n",
    "\n",
    "    ########## Tabulate results\n",
    "\n",
    "    model_result['wt_f1'] = tabulate_metrics(run_report['eval_dev_rpt'])['wt_f1']\n",
    "    model_result['train_loss'] = run_report['train_loss']\n",
    "    model_result['eval_train_loss'] = run_report['eval_train_loss']\n",
    "    model_result['eval_dev_loss'] = run_report['eval_dev_loss']\n",
    "\n",
    "    hp_search_results.append(model_result)\n",
    "\n",
    "\n"
   ]
  },
  {
   "cell_type": "code",
   "execution_count": 46,
   "metadata": {},
   "outputs": [
    {
     "data": {
      "text/plain": [
       "'/home/sam/MeasEval/baselines/../data/output/hyperparam_tuning/'"
      ]
     },
     "execution_count": 46,
     "metadata": {},
     "output_type": "execute_result"
    }
   ],
   "source": [
    "hptuningpath = os.path.join(outputpath,'hyperparam_tuning/')\n",
    "try: os.makedirs(hptuningpath)\n",
    "except: pass\n",
    "hptuningpath"
   ]
  },
  {
   "cell_type": "code",
   "execution_count": 47,
   "metadata": {},
   "outputs": [],
   "source": [
    "with open(hptuningpath+'hptuninng_train_docs.json','w') as f:\n",
    "    json.dump(train_docs, f)\n",
    "with open(hptuningpath+'hptuninng_dev_docs.json','w') as f:\n",
    "    json.dump(dev_docs, f)"
   ]
  },
  {
   "cell_type": "code",
   "execution_count": 50,
   "metadata": {},
   "outputs": [],
   "source": [
    "hp_search_results_df = pd.DataFrame.from_dict(hp_search_results)\n"
   ]
  },
  {
   "cell_type": "code",
   "execution_count": 51,
   "metadata": {},
   "outputs": [],
   "source": [
    "hp_search_results_df.to_csv(hptuningpath+'hp_search_results.csv')"
   ]
  },
  {
   "cell_type": "code",
   "execution_count": 39,
   "metadata": {},
   "outputs": [
    {
     "data": {
      "image/png": "[encoded data removed]",
      "text/plain": [
       "<Figure size 576x432 with 1 Axes>"
      ]
     },
     "metadata": {
      "needs_background": "light"
     },
     "output_type": "display_data"
    }
   ],
   "source": [
    "fig,ax=plt.subplots(nrows=1,ncols=1,figsize=(8,6))\n",
    "\n",
    "for hpsetnum, hpset in hp_search_results_df.iterrows():\n",
    "    label = str(hpsetnum)\n",
    "    epoch = list(range(len(hpset['wt_f1'])))\n",
    "    wt_f1 = hpset['wt_f1']\n",
    "    ax.plot(epoch, wt_f1, label=label)\n",
    "\n",
    "# plt.legend()\n",
    "plt.xlabel('epoch')\n",
    "plt.ylabel('Weighted f1')\n",
    "plt.show()"
   ]
  },
  {
   "cell_type": "code",
   "execution_count": 56,
   "metadata": {},
   "outputs": [
    {
     "data": {
      "image/png": "[encoded data removed]",
      "text/plain": [
       "<Figure size 576x432 with 1 Axes>"
      ]
     },
     "metadata": {
      "needs_background": "light"
     },
     "output_type": "display_data"
    }
   ],
   "source": [
    "besthps = np.argsort(hp_search_results_df['wt_f1'].apply(np.sum).values)[-1]\n",
    "hpset = hp_search_results_df.loc[besthps]\n",
    "\n",
    "best_lr = hpset['learning_rate']\n",
    "best_dropout = hpset['dropout_rate']\n",
    "\n",
    "epoch = list(range(len(hpset['wt_f1'])))\n",
    "wt_f1 = hpset['wt_f1']\n",
    "fig,ax=plt.subplots(nrows=1,ncols=1,figsize=(8,6))\n",
    "ax.plot(epoch, wt_f1)\n",
    "\n",
    "plt.title('dropout='+str(best_dropout)+'\\nlearning_rate='+str(best_lr))\n",
    "plt.xlabel('epoch')\n",
    "plt.ylabel('Weighted f1')\n",
    "plt.show()"
   ]
  },
  {
   "cell_type": "code",
   "execution_count": 61,
   "metadata": {},
   "outputs": [
    {
     "name": "stdout",
     "output_type": "stream",
     "text": [
      "7e-05\n",
      "0.03\n",
      "True\n",
      "False\n",
      "{'batch_size': 8, 'train_size': 94, 'dev_size': 27, 'learning_rate': 7e-05, 'dropout_rate': 0.03, 'normalizer_before_class': True, 'use_lr_scheduler': False}\n"
     ]
    },
    {
     "name": "stderr",
     "output_type": "stream",
     "text": [
      "Some weights of the model checkpoint at roberta-base were not used when initializing RobertaModel: ['lm_head.bias', 'lm_head.layer_norm.weight', 'lm_head.dense.bias', 'lm_head.decoder.weight', 'lm_head.dense.weight', 'lm_head.layer_norm.bias']\n",
      "- This IS expected if you are initializing RobertaModel from the checkpoint of a model trained on another task or with another architecture (e.g. initializing a BertForSequenceClassification model from a BertForPreTraining model).\n",
      "- This IS NOT expected if you are initializing RobertaModel from the checkpoint of a model that you expect to be exactly identical (initializing a BertForSequenceClassification model from a BertForSequenceClassification model).\n"
     ]
    },
    {
     "data": {
      "application/vnd.jupyter.widget-view+json": {
       "model_id": "2f440166d1ab40b6b23cfa4b1825a140",
       "version_major": 2,
       "version_minor": 0
      },
      "text/plain": [
       "  0%|          | 0/224 [00:00<?, ?it/s]"
      ]
     },
     "metadata": {},
     "output_type": "display_data"
    },
    {
     "name": "stdout",
     "output_type": "stream",
     "text": [
      "epoch 1\t\tweighted dev eval f1 0.0\n",
      "epoch 2\t\tweighted dev eval f1 0.3232199282405545\n",
      "epoch 3\t\tweighted dev eval f1 0.48024216726527014\n",
      "epoch 4\t\tweighted dev eval f1 0.500928087622081\n",
      "epoch 5\t\tweighted dev eval f1 0.4831379152914335\n",
      "epoch 6\t\tweighted dev eval f1 0.5428958870583019\n",
      "epoch 7\t\tweighted dev eval f1 0.5514575702852753\n",
      "epoch 8\t\tweighted dev eval f1 0.5950985298688015\n",
      "7e-05\n",
      "0.03\n",
      "False\n",
      "True\n",
      "{'batch_size': 8, 'train_size': 94, 'dev_size': 27, 'learning_rate': 7e-05, 'dropout_rate': 0.03, 'normalizer_before_class': False, 'use_lr_scheduler': True}\n"
     ]
    },
    {
     "name": "stderr",
     "output_type": "stream",
     "text": [
      "Some weights of the model checkpoint at roberta-base were not used when initializing RobertaModel: ['lm_head.bias', 'lm_head.layer_norm.weight', 'lm_head.dense.bias', 'lm_head.decoder.weight', 'lm_head.dense.weight', 'lm_head.layer_norm.bias']\n",
      "- This IS expected if you are initializing RobertaModel from the checkpoint of a model trained on another task or with another architecture (e.g. initializing a BertForSequenceClassification model from a BertForPreTraining model).\n",
      "- This IS NOT expected if you are initializing RobertaModel from the checkpoint of a model that you expect to be exactly identical (initializing a BertForSequenceClassification model from a BertForSequenceClassification model).\n"
     ]
    },
    {
     "data": {
      "application/vnd.jupyter.widget-view+json": {
       "model_id": "dabf28d68bb646469c5b3ca3f9737118",
       "version_major": 2,
       "version_minor": 0
      },
      "text/plain": [
       "  0%|          | 0/224 [00:00<?, ?it/s]"
      ]
     },
     "metadata": {},
     "output_type": "display_data"
    },
    {
     "name": "stdout",
     "output_type": "stream",
     "text": [
      "epoch 1\t\tweighted dev eval f1 0.0\n",
      "epoch 2\t\tweighted dev eval f1 0.19527103858026637\n",
      "epoch 3\t\tweighted dev eval f1 0.4117629278044951\n",
      "epoch 4\t\tweighted dev eval f1 0.4855956032988911\n",
      "epoch 5\t\tweighted dev eval f1 0.545645041356319\n",
      "epoch 6\t\tweighted dev eval f1 0.5552174676868322\n",
      "epoch 7\t\tweighted dev eval f1 0.5571396174243874\n",
      "epoch 8\t\tweighted dev eval f1 0.5556992435976018\n",
      "7e-05\n",
      "0.03\n",
      "True\n",
      "True\n",
      "{'batch_size': 8, 'train_size': 94, 'dev_size': 27, 'learning_rate': 7e-05, 'dropout_rate': 0.03, 'normalizer_before_class': True, 'use_lr_scheduler': True}\n"
     ]
    },
    {
     "name": "stderr",
     "output_type": "stream",
     "text": [
      "Some weights of the model checkpoint at roberta-base were not used when initializing RobertaModel: ['lm_head.bias', 'lm_head.layer_norm.weight', 'lm_head.dense.bias', 'lm_head.decoder.weight', 'lm_head.dense.weight', 'lm_head.layer_norm.bias']\n",
      "- This IS expected if you are initializing RobertaModel from the checkpoint of a model trained on another task or with another architecture (e.g. initializing a BertForSequenceClassification model from a BertForPreTraining model).\n",
      "- This IS NOT expected if you are initializing RobertaModel from the checkpoint of a model that you expect to be exactly identical (initializing a BertForSequenceClassification model from a BertForSequenceClassification model).\n"
     ]
    },
    {
     "data": {
      "application/vnd.jupyter.widget-view+json": {
       "model_id": "fd6eed70419b469c8119e623535bdbcd",
       "version_major": 2,
       "version_minor": 0
      },
      "text/plain": [
       "  0%|          | 0/224 [00:00<?, ?it/s]"
      ]
     },
     "metadata": {},
     "output_type": "display_data"
    },
    {
     "name": "stdout",
     "output_type": "stream",
     "text": [
      "epoch 1\t\tweighted dev eval f1 0.0\n",
      "epoch 2\t\tweighted dev eval f1 0.23923299715227728\n",
      "epoch 3\t\tweighted dev eval f1 0.3451522769529317\n",
      "epoch 4\t\tweighted dev eval f1 0.46315830492110677\n",
      "epoch 5\t\tweighted dev eval f1 0.5033173936363132\n",
      "epoch 6\t\tweighted dev eval f1 0.49853870024754454\n",
      "epoch 7\t\tweighted dev eval f1 0.5337062726231449\n",
      "epoch 8\t\tweighted dev eval f1 0.5412788600938309\n"
     ]
    }
   ],
   "source": [
    "normalize = [True, False, True]\n",
    "scheduler = [False, True, True]\n",
    "\n",
    "hp_search_results = []\n",
    "\n",
    "for norm, sched in zip(normalize, scheduler):\n",
    "\n",
    "    model_result = {}\n",
    "\n",
    "    model_result['batch_size'] = batch_size\n",
    "    model_result['train_size'] = stage1_n_train\n",
    "    model_result['dev_size'] = stage1_n_dev\n",
    "\n",
    "    ########## HPs\n",
    "\n",
    "    learning_rate = best_lr # sets AdamW optimizaiton learning rate\n",
    "                        # scales scales with each training loop if scheduler is on\n",
    "    model_result['learning_rate'] = learning_rate\n",
    "    print(learning_rate)\n",
    "\n",
    "    dropout_rate = best_dropout # sets same dropout for roberta and for classification layer\n",
    "    model_result['dropout_rate'] = dropout_rate\n",
    "    print(dropout_rate)\n",
    "\n",
    "    normalizer_before_class = norm # toggle the normalizer before the classification layer\n",
    "    model_result['normalizer_before_class'] = normalizer_before_class\n",
    "    print(normalizer_before_class)\n",
    "\n",
    "    use_lr_scheduler = sched # toggle the linear learning rate scheduler\n",
    "    model_result['use_lr_scheduler'] = use_lr_scheduler\n",
    "    print(use_lr_scheduler)\n",
    "\n",
    "    n_epochs = 8\n",
    "\n",
    "    ########### For saving (not used)\n",
    "\n",
    "    run_name = model_name.split('/')[-1] +'_bs-'+str(batch_size)+\\\n",
    "                                            '_lr-'+str(learning_rate)+\\\n",
    "                                            '_drop-'+str(dropout_rate)+\\\n",
    "                                            '_norm-'+str(normalizer_before_class)[0]+\\\n",
    "                                            '_sched-'+str(use_lr_scheduler)[0]\n",
    "    runoutpath = os.path.join(outputpath,run_name+'/')\n",
    "\n",
    "\n",
    "    print(model_result)\n",
    "    ########### build/train/eval outer loop\n",
    "\n",
    "    model = build_model(dropout_rate, normalizer_before_class)\n",
    "\n",
    "    criterion = torch.nn.CrossEntropyLoss(reduction='sum')\n",
    "    optimizer = AdamW(model.parameters(), lr=learning_rate)\n",
    "\n",
    "    num_total_steps = n_epochs * (len(batched_train_ds) * 2 + len(batched_dev_ds))\n",
    "    progress_bar = tqdm(range(num_total_steps))\n",
    "\n",
    "    n_training_steps = n_epochs * len(batched_train_ds)\n",
    "    if use_lr_scheduler:\n",
    "        n_training_steps = n_epochs * len(batched_train_ds)\n",
    "        lr_scheduler = get_scheduler(\n",
    "            name=\"linear\", optimizer=optimizer, num_warmup_steps=0, num_training_steps=n_training_steps\n",
    "        )\n",
    "\n",
    "    run_report = train_dev_loop(n_epochs)\n",
    "\n",
    "    ########## Tabulate results\n",
    "\n",
    "    model_result['wt_f1'] = tabulate_metrics(run_report['eval_dev_rpt'])['wt_f1']\n",
    "    model_result['train_loss'] = run_report['train_loss']\n",
    "    model_result['eval_train_loss'] = run_report['eval_train_loss']\n",
    "    model_result['eval_dev_loss'] = run_report['eval_dev_loss']\n",
    "\n",
    "    hp_search_results.append(model_result)"
   ]
  },
  {
   "cell_type": "code",
   "execution_count": 64,
   "metadata": {},
   "outputs": [
    {
     "data": {
      "text/plain": [
       "batch_size                                                                 8\n",
       "train_size                                                                94\n",
       "dev_size                                                                  27\n",
       "learning_rate                                                        0.00007\n",
       "dropout_rate                                                            0.03\n",
       "normalizer_before_class                                                False\n",
       "use_lr_scheduler                                                       False\n",
       "wt_f1                      0    0.000000\n",
       "1    0.192126\n",
       "2    0.472779\n",
       "3   ...\n",
       "train_loss                 [7976.98828125, 5098.583984375, 2262.010498046...\n",
       "eval_train_loss            [659.8510131835938, 664.4031372070312, 758.239...\n",
       "eval_dev_loss              [1645.263916015625, 1036.2999267578125, 850.41...\n",
       "Name: 10, dtype: object"
      ]
     },
     "execution_count": 64,
     "metadata": {},
     "output_type": "execute_result"
    }
   ],
   "source": [
    "hp_search_results_df.loc[besthps]"
   ]
  },
  {
   "cell_type": "code",
   "execution_count": 66,
   "metadata": {},
   "outputs": [
    {
     "name": "stderr",
     "output_type": "stream",
     "text": [
      "/tmp/ipykernel_1842/3880526453.py:1: FutureWarning: The frame.append method is deprecated and will be removed from pandas in a future version. Use pandas.concat instead.\n",
      "  besthps_df = pd.DataFrame.from_dict(hp_search_results).append(hp_search_results_df.loc[besthps])\n"
     ]
    }
   ],
   "source": [
    "besthps_df = pd.DataFrame.from_dict(hp_search_results).append(hp_search_results_df.loc[besthps])\n"
   ]
  },
  {
   "cell_type": "code",
   "execution_count": 73,
   "metadata": {},
   "outputs": [
    {
     "data": {
      "image/png": "[encoded data removed]",
      "text/plain": [
       "<Figure size 576x432 with 1 Axes>"
      ]
     },
     "metadata": {
      "needs_background": "light"
     },
     "output_type": "display_data"
    }
   ],
   "source": [
    "fig,ax=plt.subplots(nrows=1,ncols=1,figsize=(8,6))\n",
    "\n",
    "for hpsetnum, hpset in besthps_df.iterrows():\n",
    "    label = 'normalizer='+str(hpset['normalizer_before_class'])+'\\nlinear lr scheduler='+str(hpset['use_lr_scheduler'])\n",
    "    epoch = list(range(len(hpset['wt_f1'])))\n",
    "    wt_f1 = hpset['wt_f1']\n",
    "    ax.plot(epoch, wt_f1, label=label)\n",
    "\n",
    "# plt.legend()\n",
    "plt.xlabel('epoch')\n",
    "plt.ylabel('Weighted f1')\n",
    "plt.title('no impact from the learning rate scheduler or normalization before the classification layer\\ndropout='+str(best_dropout)+'\\nlearning_rate='+str(best_lr))\n",
    "plt.legend()\n",
    "plt.show()"
   ]
  }
 ],
 "metadata": {
  "kernelspec": {
   "display_name": "Python 3.10.5 ('test')",
   "language": "python",
   "name": "python3"
  },
  "language_info": {
   "codemirror_mode": {
    "name": "ipython",
    "version": 3
   },
   "file_extension": ".py",
   "mimetype": "text/x-python",
   "name": "python",
   "nbconvert_exporter": "python",
   "pygments_lexer": "ipython3",
   "version": "3.10.5"
  },
  "vscode": {
   "interpreter": {
    "hash": "b5060d9997a95c2acb3a42af5d14caeb5dba3e5b7e20123b9f235f707614ce30"
   }
  }
 },
 "nbformat": 4,
 "nbformat_minor": 2
}
